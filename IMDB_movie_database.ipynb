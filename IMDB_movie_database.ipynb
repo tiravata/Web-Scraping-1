{
 "cells": [
  {
   "cell_type": "markdown",
   "metadata": {},
   "source": [
    "# Creating IMDB Movie Datbase\n",
    "\n",
    "Our quest is to create a database for IMDB movies, such that we can save informations from various social media sources using this database schema. We have to make sure our database schema is flexible for any further addition to the list of tables.\n",
    "\n",
    "This data will further be used with natural language processing for sentiment analysis."
   ]
  },
  {
   "cell_type": "code",
   "execution_count": 76,
   "metadata": {
    "collapsed": true
   },
   "outputs": [],
   "source": [
    "#calling dependencies\n",
    "import pandas as pd\n",
    "import numpy as np\n",
    "import sqlite3"
   ]
  },
  {
   "cell_type": "markdown",
   "metadata": {},
   "source": [
    "## Datasets\n",
    "\n",
    "The datasets we are using have been scraped (or API used) to gather the data set from various sources namely:\n",
    "\n",
    "- [IMDB](http://www.imdb.com/)\n",
    "- [facebook](https://www.facebook.com/)\n",
    "\n",
    "The way we scraped the websites has been described in detail in the other notebooks provided."
   ]
  },
  {
   "cell_type": "code",
   "execution_count": 77,
   "metadata": {
    "collapsed": true
   },
   "outputs": [],
   "source": [
    "#reading the movie dataset\n",
    "movie_data = pd.read_csv(\"imdb_movie_dataset.csv\") "
   ]
  },
  {
   "cell_type": "code",
   "execution_count": 78,
   "metadata": {
    "collapsed": true
   },
   "outputs": [],
   "source": [
    "#reading post dataset\n",
    "post_data = pd.read_csv(\"post_data_fb.csv\")\n",
    "post_data = post_data.drop(['Unnamed: 0'], axis = 1)"
   ]
  },
  {
   "cell_type": "code",
   "execution_count": 79,
   "metadata": {
    "collapsed": true
   },
   "outputs": [],
   "source": [
    "#reading comment dataset\n",
    "comment_data = pd.read_csv(\"comments_posts_fb.csv\")\n",
    "comment_data = comment_data.drop(['Unnamed: 0'], axis = 1)"
   ]
  },
  {
   "cell_type": "markdown",
   "metadata": {},
   "source": [
    "## Creating master tables abd normalizing the data into 3rd Normal form\n",
    "\n",
    "We split our data into database tables to fit our database schema. "
   ]
  },
  {
   "cell_type": "code",
   "execution_count": 80,
   "metadata": {},
   "outputs": [
    {
     "data": {
      "text/html": [
       "<div>\n",
       "<style>\n",
       "    .dataframe thead tr:only-child th {\n",
       "        text-align: right;\n",
       "    }\n",
       "\n",
       "    .dataframe thead th {\n",
       "        text-align: left;\n",
       "    }\n",
       "\n",
       "    .dataframe tbody tr th {\n",
       "        vertical-align: top;\n",
       "    }\n",
       "</style>\n",
       "<table border=\"1\" class=\"dataframe\">\n",
       "  <thead>\n",
       "    <tr style=\"text-align: right;\">\n",
       "      <th></th>\n",
       "      <th>movie_id</th>\n",
       "      <th>movie_names</th>\n",
       "      <th>movie_description</th>\n",
       "      <th>imdb_ratings</th>\n",
       "      <th>metascores</th>\n",
       "      <th>runtime</th>\n",
       "      <th>gross_value</th>\n",
       "      <th>year_release</th>\n",
       "    </tr>\n",
       "  </thead>\n",
       "  <tbody>\n",
       "    <tr>\n",
       "      <th>0</th>\n",
       "      <td>267047309977805</td>\n",
       "      <td>Logan</td>\n",
       "      <td>[\"In the near future, a weary Logan cares for ...</td>\n",
       "      <td>8.1</td>\n",
       "      <td>77</td>\n",
       "      <td>137</td>\n",
       "      <td>226277068.0</td>\n",
       "      <td>2017</td>\n",
       "    </tr>\n",
       "    <tr>\n",
       "      <th>16</th>\n",
       "      <td>422679747902228</td>\n",
       "      <td>Wonder Woman</td>\n",
       "      <td>['When a pilot crashes and tells of conflict i...</td>\n",
       "      <td>7.5</td>\n",
       "      <td>76</td>\n",
       "      <td>141</td>\n",
       "      <td>412563408.0</td>\n",
       "      <td>2017</td>\n",
       "    </tr>\n",
       "    <tr>\n",
       "      <th>28</th>\n",
       "      <td>387651361687615</td>\n",
       "      <td>Guardians of the Galaxy Vol. 2</td>\n",
       "      <td>[\"The Guardians must fight to keep their newfo...</td>\n",
       "      <td>7.7</td>\n",
       "      <td>67</td>\n",
       "      <td>136</td>\n",
       "      <td>389813101.0</td>\n",
       "      <td>2017</td>\n",
       "    </tr>\n",
       "  </tbody>\n",
       "</table>\n",
       "</div>"
      ],
      "text/plain": [
       "           movie_id                     movie_names  \\\n",
       "0   267047309977805                           Logan   \n",
       "16  422679747902228                    Wonder Woman   \n",
       "28  387651361687615  Guardians of the Galaxy Vol. 2   \n",
       "\n",
       "                                    movie_description  imdb_ratings  \\\n",
       "0   [\"In the near future, a weary Logan cares for ...           8.1   \n",
       "16  ['When a pilot crashes and tells of conflict i...           7.5   \n",
       "28  [\"The Guardians must fight to keep their newfo...           7.7   \n",
       "\n",
       "    metascores  runtime  gross_value  year_release  \n",
       "0           77      137  226277068.0          2017  \n",
       "16          76      141  412563408.0          2017  \n",
       "28          67      136  389813101.0          2017  "
      ]
     },
     "execution_count": 80,
     "metadata": {},
     "output_type": "execute_result"
    }
   ],
   "source": [
    "#main table - All the other tables will be connected to this one\n",
    "movie_master_table = pd.DataFrame()\n",
    "movie_master_table[['movie_id','movie_names','movie_description','imdb_ratings','metascores','runtime','gross_value','year_release']] = movie_data[['Movie_id','movie_names','movie_description','imdb_ratings','metscores','runtime','gross_value','year_release']]\n",
    "movie_master_table = movie_master_table.drop_duplicates()\n",
    "movie_master_table.head(3)"
   ]
  },
  {
   "cell_type": "code",
   "execution_count": 81,
   "metadata": {},
   "outputs": [
    {
     "data": {
      "text/html": [
       "<div>\n",
       "<style>\n",
       "    .dataframe thead tr:only-child th {\n",
       "        text-align: right;\n",
       "    }\n",
       "\n",
       "    .dataframe thead th {\n",
       "        text-align: left;\n",
       "    }\n",
       "\n",
       "    .dataframe tbody tr th {\n",
       "        vertical-align: top;\n",
       "    }\n",
       "</style>\n",
       "<table border=\"1\" class=\"dataframe\">\n",
       "  <thead>\n",
       "    <tr style=\"text-align: right;\">\n",
       "      <th></th>\n",
       "      <th>starcast_id</th>\n",
       "      <th>starcast_name</th>\n",
       "    </tr>\n",
       "  </thead>\n",
       "  <tbody>\n",
       "    <tr>\n",
       "      <th>0</th>\n",
       "      <td>10123</td>\n",
       "      <td>James Mangold</td>\n",
       "    </tr>\n",
       "    <tr>\n",
       "      <th>4</th>\n",
       "      <td>10124</td>\n",
       "      <td>Hugh Jackman</td>\n",
       "    </tr>\n",
       "    <tr>\n",
       "      <th>8</th>\n",
       "      <td>10125</td>\n",
       "      <td>Patrick Stewart</td>\n",
       "    </tr>\n",
       "  </tbody>\n",
       "</table>\n",
       "</div>"
      ],
      "text/plain": [
       "   starcast_id    starcast_name\n",
       "0        10123    James Mangold\n",
       "4        10124     Hugh Jackman\n",
       "8        10125  Patrick Stewart"
      ]
     },
     "execution_count": 81,
     "metadata": {},
     "output_type": "execute_result"
    }
   ],
   "source": [
    "#starcast main table - this will connect to movie table using a seperate relational table\n",
    "starcast_master_table = pd.DataFrame()\n",
    "starcast_master_table[['starcast_id','starcast_name']] = movie_data[['star_cast_id','star_cast']]\n",
    "starcast_master_table = starcast_master_table.drop_duplicates()\n",
    "starcast_master_table.head(3)"
   ]
  },
  {
   "cell_type": "code",
   "execution_count": 82,
   "metadata": {},
   "outputs": [
    {
     "data": {
      "text/html": [
       "<div>\n",
       "<style>\n",
       "    .dataframe thead tr:only-child th {\n",
       "        text-align: right;\n",
       "    }\n",
       "\n",
       "    .dataframe thead th {\n",
       "        text-align: left;\n",
       "    }\n",
       "\n",
       "    .dataframe tbody tr th {\n",
       "        vertical-align: top;\n",
       "    }\n",
       "</style>\n",
       "<table border=\"1\" class=\"dataframe\">\n",
       "  <thead>\n",
       "    <tr style=\"text-align: right;\">\n",
       "      <th></th>\n",
       "      <th>director_id</th>\n",
       "      <th>director_name</th>\n",
       "    </tr>\n",
       "  </thead>\n",
       "  <tbody>\n",
       "    <tr>\n",
       "      <th>0</th>\n",
       "      <td>1200</td>\n",
       "      <td>James Mangold</td>\n",
       "    </tr>\n",
       "    <tr>\n",
       "      <th>16</th>\n",
       "      <td>1201</td>\n",
       "      <td>Patty Jenkins</td>\n",
       "    </tr>\n",
       "    <tr>\n",
       "      <th>28</th>\n",
       "      <td>1202</td>\n",
       "      <td>James Gunn</td>\n",
       "    </tr>\n",
       "  </tbody>\n",
       "</table>\n",
       "</div>"
      ],
      "text/plain": [
       "    director_id  director_name\n",
       "0          1200  James Mangold\n",
       "16         1201  Patty Jenkins\n",
       "28         1202     James Gunn"
      ]
     },
     "execution_count": 82,
     "metadata": {},
     "output_type": "execute_result"
    }
   ],
   "source": [
    "#director main table - this will connect to movie table using a seperate relational table\n",
    "director_master_table = pd.DataFrame()\n",
    "director_master_table[['director_id','director_name']] = movie_data[['director_id','director_name']]\n",
    "director_master_table = director_master_table.drop_duplicates()\n",
    "director_master_table.head(3)"
   ]
  },
  {
   "cell_type": "code",
   "execution_count": 83,
   "metadata": {},
   "outputs": [
    {
     "data": {
      "text/html": [
       "<div>\n",
       "<style>\n",
       "    .dataframe thead tr:only-child th {\n",
       "        text-align: right;\n",
       "    }\n",
       "\n",
       "    .dataframe thead th {\n",
       "        text-align: left;\n",
       "    }\n",
       "\n",
       "    .dataframe tbody tr th {\n",
       "        vertical-align: top;\n",
       "    }\n",
       "</style>\n",
       "<table border=\"1\" class=\"dataframe\">\n",
       "  <thead>\n",
       "    <tr style=\"text-align: right;\">\n",
       "      <th></th>\n",
       "      <th>genre_id</th>\n",
       "      <th>genre</th>\n",
       "    </tr>\n",
       "  </thead>\n",
       "  <tbody>\n",
       "    <tr>\n",
       "      <th>0</th>\n",
       "      <td>100</td>\n",
       "      <td>Action</td>\n",
       "    </tr>\n",
       "    <tr>\n",
       "      <th>1</th>\n",
       "      <td>101</td>\n",
       "      <td>Drama</td>\n",
       "    </tr>\n",
       "    <tr>\n",
       "      <th>2</th>\n",
       "      <td>102</td>\n",
       "      <td>Sci</td>\n",
       "    </tr>\n",
       "  </tbody>\n",
       "</table>\n",
       "</div>"
      ],
      "text/plain": [
       "   genre_id   genre\n",
       "0       100  Action\n",
       "1       101   Drama\n",
       "2       102     Sci"
      ]
     },
     "execution_count": 83,
     "metadata": {},
     "output_type": "execute_result"
    }
   ],
   "source": [
    "#genre main table - this will connect to movie table using a seperate relational table\n",
    "genre_master_table = pd.DataFrame()\n",
    "genre_master_table[['genre_id','genre']] = movie_data[['genre_id','genre']]\n",
    "genre_master_table = genre_master_table.drop_duplicates()\n",
    "genre_master_table.head(3)"
   ]
  },
  {
   "cell_type": "code",
   "execution_count": 84,
   "metadata": {},
   "outputs": [
    {
     "data": {
      "text/html": [
       "<div>\n",
       "<style>\n",
       "    .dataframe thead tr:only-child th {\n",
       "        text-align: right;\n",
       "    }\n",
       "\n",
       "    .dataframe thead th {\n",
       "        text-align: left;\n",
       "    }\n",
       "\n",
       "    .dataframe tbody tr th {\n",
       "        vertical-align: top;\n",
       "    }\n",
       "</style>\n",
       "<table border=\"1\" class=\"dataframe\">\n",
       "  <thead>\n",
       "    <tr style=\"text-align: right;\">\n",
       "      <th></th>\n",
       "      <th>certificate_id</th>\n",
       "      <th>certificate</th>\n",
       "    </tr>\n",
       "  </thead>\n",
       "  <tbody>\n",
       "    <tr>\n",
       "      <th>0</th>\n",
       "      <td>1</td>\n",
       "      <td>R</td>\n",
       "    </tr>\n",
       "    <tr>\n",
       "      <th>16</th>\n",
       "      <td>2</td>\n",
       "      <td>PG-13</td>\n",
       "    </tr>\n",
       "    <tr>\n",
       "      <th>148</th>\n",
       "      <td>3</td>\n",
       "      <td>PG</td>\n",
       "    </tr>\n",
       "  </tbody>\n",
       "</table>\n",
       "</div>"
      ],
      "text/plain": [
       "     certificate_id certificate\n",
       "0                 1           R\n",
       "16                2       PG-13\n",
       "148               3          PG"
      ]
     },
     "execution_count": 84,
     "metadata": {},
     "output_type": "execute_result"
    }
   ],
   "source": [
    "#certificate main table - this will connect to movie table using a seperate relational table\n",
    "certificate_master_table = pd.DataFrame()\n",
    "certificate_master_table[['certificate_id','certificate']] = movie_data[['certificate_id','certificate']]\n",
    "certificate_master_table = certificate_master_table.drop_duplicates()\n",
    "certificate_master_table.head(3)"
   ]
  },
  {
   "cell_type": "code",
   "execution_count": 85,
   "metadata": {},
   "outputs": [
    {
     "data": {
      "text/html": [
       "<div>\n",
       "<style>\n",
       "    .dataframe thead tr:only-child th {\n",
       "        text-align: right;\n",
       "    }\n",
       "\n",
       "    .dataframe thead th {\n",
       "        text-align: left;\n",
       "    }\n",
       "\n",
       "    .dataframe tbody tr th {\n",
       "        vertical-align: top;\n",
       "    }\n",
       "</style>\n",
       "<table border=\"1\" class=\"dataframe\">\n",
       "  <thead>\n",
       "    <tr style=\"text-align: right;\">\n",
       "      <th></th>\n",
       "      <th>post_id</th>\n",
       "      <th>created_at</th>\n",
       "      <th>post_message</th>\n",
       "      <th>likes_count</th>\n",
       "      <th>share_count</th>\n",
       "      <th>comments_count</th>\n",
       "      <th>user_engagement</th>\n",
       "    </tr>\n",
       "  </thead>\n",
       "  <tbody>\n",
       "    <tr>\n",
       "      <th>0</th>\n",
       "      <td>635054059945646_1531844043599972</td>\n",
       "      <td>2018-02-25 20:00:01</td>\n",
       "      <td>All hail the king. Have you seen Marvel Studio...</td>\n",
       "      <td>4267</td>\n",
       "      <td>223</td>\n",
       "      <td>193</td>\n",
       "      <td>4683</td>\n",
       "    </tr>\n",
       "    <tr>\n",
       "      <th>1</th>\n",
       "      <td>635054059945646_1530626643721712</td>\n",
       "      <td>2018-02-24 18:00:01</td>\n",
       "      <td>The people have spoken. Marvel Studios’ “Black...</td>\n",
       "      <td>8952</td>\n",
       "      <td>973</td>\n",
       "      <td>354</td>\n",
       "      <td>10279</td>\n",
       "    </tr>\n",
       "    <tr>\n",
       "      <th>2</th>\n",
       "      <td>635054059945646_1529848977132812</td>\n",
       "      <td>2018-02-23 23:54:29</td>\n",
       "      <td>Wakanda Forever. Here's a look at some #BlackP...</td>\n",
       "      <td>3722</td>\n",
       "      <td>503</td>\n",
       "      <td>104</td>\n",
       "      <td>4329</td>\n",
       "    </tr>\n",
       "  </tbody>\n",
       "</table>\n",
       "</div>"
      ],
      "text/plain": [
       "                            post_id          created_at  \\\n",
       "0  635054059945646_1531844043599972 2018-02-25 20:00:01   \n",
       "1  635054059945646_1530626643721712 2018-02-24 18:00:01   \n",
       "2  635054059945646_1529848977132812 2018-02-23 23:54:29   \n",
       "\n",
       "                                        post_message  likes_count  \\\n",
       "0  All hail the king. Have you seen Marvel Studio...         4267   \n",
       "1  The people have spoken. Marvel Studios’ “Black...         8952   \n",
       "2  Wakanda Forever. Here's a look at some #BlackP...         3722   \n",
       "\n",
       "   share_count  comments_count  user_engagement  \n",
       "0          223             193             4683  \n",
       "1          973             354            10279  \n",
       "2          503             104             4329  "
      ]
     },
     "execution_count": 85,
     "metadata": {},
     "output_type": "execute_result"
    }
   ],
   "source": [
    "#posts main table - this will connect to movie table using a seperate relational table (these are posts from facebook)\n",
    "posts_master_table = pd.DataFrame()\n",
    "posts_master_table[['post_id','created_at','post_message','likes_count','share_count','comments_count','user_engagement']] = post_data[['post_id','created_at','post_message','post_likes_count','post_shares_count','post_comment_count','user_engagement']]\n",
    "posts_master_table = posts_master_table.drop_duplicates()\n",
    "posts_master_table['created_at'] = posts_master_table['created_at'].astype('datetime64[ns]')\n",
    "posts_master_table.head(3)"
   ]
  },
  {
   "cell_type": "code",
   "execution_count": 86,
   "metadata": {},
   "outputs": [
    {
     "data": {
      "text/html": [
       "<div>\n",
       "<style>\n",
       "    .dataframe thead tr:only-child th {\n",
       "        text-align: right;\n",
       "    }\n",
       "\n",
       "    .dataframe thead th {\n",
       "        text-align: left;\n",
       "    }\n",
       "\n",
       "    .dataframe tbody tr th {\n",
       "        vertical-align: top;\n",
       "    }\n",
       "</style>\n",
       "<table border=\"1\" class=\"dataframe\">\n",
       "  <thead>\n",
       "    <tr style=\"text-align: right;\">\n",
       "      <th></th>\n",
       "      <th>comments_id</th>\n",
       "      <th>created_at</th>\n",
       "      <th>comments</th>\n",
       "    </tr>\n",
       "  </thead>\n",
       "  <tbody>\n",
       "    <tr>\n",
       "      <th>0</th>\n",
       "      <td>1531844043599972_1531852783599098</td>\n",
       "      <td>2018-02-25 20:11:22</td>\n",
       "      <td>Just seen it. Probably one of the most disappo...</td>\n",
       "    </tr>\n",
       "    <tr>\n",
       "      <th>1</th>\n",
       "      <td>1531844043599972_1531875303596846</td>\n",
       "      <td>2018-02-25 20:36:52</td>\n",
       "      <td>Take note DC, in just 10 days black panther ha...</td>\n",
       "    </tr>\n",
       "    <tr>\n",
       "      <th>2</th>\n",
       "      <td>1531844043599972_1532535360197507</td>\n",
       "      <td>2018-02-26 14:14:50</td>\n",
       "      <td>Lol!!! Rotten Tomatoes is funny! To me, Black ...</td>\n",
       "    </tr>\n",
       "  </tbody>\n",
       "</table>\n",
       "</div>"
      ],
      "text/plain": [
       "                         comments_id          created_at  \\\n",
       "0  1531844043599972_1531852783599098 2018-02-25 20:11:22   \n",
       "1  1531844043599972_1531875303596846 2018-02-25 20:36:52   \n",
       "2  1531844043599972_1532535360197507 2018-02-26 14:14:50   \n",
       "\n",
       "                                            comments  \n",
       "0  Just seen it. Probably one of the most disappo...  \n",
       "1  Take note DC, in just 10 days black panther ha...  \n",
       "2  Lol!!! Rotten Tomatoes is funny! To me, Black ...  "
      ]
     },
     "execution_count": 86,
     "metadata": {},
     "output_type": "execute_result"
    }
   ],
   "source": [
    "#comments main table - this will connect to posts table using a seperate relational table\n",
    "comments_master_table = pd.DataFrame()\n",
    "comments_master_table[['comments_id','created_at','comments']] = comment_data[['comments_id','created_at','post_comments']]\n",
    "comments_master_table = comments_master_table.drop_duplicates()\n",
    "comments_master_table['created_at'] = comments_master_table['created_at'].astype('datetime64[ns]')\n",
    "comments_master_table.head(3)"
   ]
  },
  {
   "cell_type": "markdown",
   "metadata": {},
   "source": [
    "## Creating Mappings between all the tables\n",
    "\n",
    "Here, we create seperate mapping tables between the database tables in order to perform join statements.\n"
   ]
  },
  {
   "cell_type": "code",
   "execution_count": 87,
   "metadata": {},
   "outputs": [
    {
     "data": {
      "text/html": [
       "<div>\n",
       "<style>\n",
       "    .dataframe thead tr:only-child th {\n",
       "        text-align: right;\n",
       "    }\n",
       "\n",
       "    .dataframe thead th {\n",
       "        text-align: left;\n",
       "    }\n",
       "\n",
       "    .dataframe tbody tr th {\n",
       "        vertical-align: top;\n",
       "    }\n",
       "</style>\n",
       "<table border=\"1\" class=\"dataframe\">\n",
       "  <thead>\n",
       "    <tr style=\"text-align: right;\">\n",
       "      <th></th>\n",
       "      <th>movie_id</th>\n",
       "      <th>director_id</th>\n",
       "    </tr>\n",
       "  </thead>\n",
       "  <tbody>\n",
       "    <tr>\n",
       "      <th>0</th>\n",
       "      <td>267047309977805</td>\n",
       "      <td>1200</td>\n",
       "    </tr>\n",
       "    <tr>\n",
       "      <th>16</th>\n",
       "      <td>422679747902228</td>\n",
       "      <td>1201</td>\n",
       "    </tr>\n",
       "    <tr>\n",
       "      <th>28</th>\n",
       "      <td>387651361687615</td>\n",
       "      <td>1202</td>\n",
       "    </tr>\n",
       "  </tbody>\n",
       "</table>\n",
       "</div>"
      ],
      "text/plain": [
       "           movie_id  director_id\n",
       "0   267047309977805         1200\n",
       "16  422679747902228         1201\n",
       "28  387651361687615         1202"
      ]
     },
     "execution_count": 87,
     "metadata": {},
     "output_type": "execute_result"
    }
   ],
   "source": [
    "#movie-director mapping\n",
    "movie_director_maping = pd.DataFrame()\n",
    "movie_director_maping[['movie_id','director_id']] = movie_data[['Movie_id','director_id']]\n",
    "movie_director_maping = movie_director_maping.drop_duplicates()\n",
    "movie_director_maping.head(3)"
   ]
  },
  {
   "cell_type": "code",
   "execution_count": 88,
   "metadata": {},
   "outputs": [
    {
     "data": {
      "text/html": [
       "<div>\n",
       "<style>\n",
       "    .dataframe thead tr:only-child th {\n",
       "        text-align: right;\n",
       "    }\n",
       "\n",
       "    .dataframe thead th {\n",
       "        text-align: left;\n",
       "    }\n",
       "\n",
       "    .dataframe tbody tr th {\n",
       "        vertical-align: top;\n",
       "    }\n",
       "</style>\n",
       "<table border=\"1\" class=\"dataframe\">\n",
       "  <thead>\n",
       "    <tr style=\"text-align: right;\">\n",
       "      <th></th>\n",
       "      <th>movie_id</th>\n",
       "      <th>starcast_id</th>\n",
       "    </tr>\n",
       "  </thead>\n",
       "  <tbody>\n",
       "    <tr>\n",
       "      <th>0</th>\n",
       "      <td>267047309977805</td>\n",
       "      <td>10123</td>\n",
       "    </tr>\n",
       "    <tr>\n",
       "      <th>4</th>\n",
       "      <td>267047309977805</td>\n",
       "      <td>10124</td>\n",
       "    </tr>\n",
       "    <tr>\n",
       "      <th>8</th>\n",
       "      <td>267047309977805</td>\n",
       "      <td>10125</td>\n",
       "    </tr>\n",
       "  </tbody>\n",
       "</table>\n",
       "</div>"
      ],
      "text/plain": [
       "          movie_id  starcast_id\n",
       "0  267047309977805        10123\n",
       "4  267047309977805        10124\n",
       "8  267047309977805        10125"
      ]
     },
     "execution_count": 88,
     "metadata": {},
     "output_type": "execute_result"
    }
   ],
   "source": [
    "#movie-starcast mapping\n",
    "movie_starcast_maping = pd.DataFrame()\n",
    "movie_starcast_maping[['movie_id','starcast_id']] = movie_data[['Movie_id','star_cast_id']]\n",
    "movie_starcast_maping = movie_starcast_maping.drop_duplicates()\n",
    "movie_starcast_maping.head(3)"
   ]
  },
  {
   "cell_type": "code",
   "execution_count": 89,
   "metadata": {},
   "outputs": [
    {
     "data": {
      "text/html": [
       "<div>\n",
       "<style>\n",
       "    .dataframe thead tr:only-child th {\n",
       "        text-align: right;\n",
       "    }\n",
       "\n",
       "    .dataframe thead th {\n",
       "        text-align: left;\n",
       "    }\n",
       "\n",
       "    .dataframe tbody tr th {\n",
       "        vertical-align: top;\n",
       "    }\n",
       "</style>\n",
       "<table border=\"1\" class=\"dataframe\">\n",
       "  <thead>\n",
       "    <tr style=\"text-align: right;\">\n",
       "      <th></th>\n",
       "      <th>movie_id</th>\n",
       "      <th>genre_id</th>\n",
       "    </tr>\n",
       "  </thead>\n",
       "  <tbody>\n",
       "    <tr>\n",
       "      <th>0</th>\n",
       "      <td>267047309977805</td>\n",
       "      <td>100</td>\n",
       "    </tr>\n",
       "    <tr>\n",
       "      <th>1</th>\n",
       "      <td>267047309977805</td>\n",
       "      <td>101</td>\n",
       "    </tr>\n",
       "    <tr>\n",
       "      <th>2</th>\n",
       "      <td>267047309977805</td>\n",
       "      <td>102</td>\n",
       "    </tr>\n",
       "  </tbody>\n",
       "</table>\n",
       "</div>"
      ],
      "text/plain": [
       "          movie_id  genre_id\n",
       "0  267047309977805       100\n",
       "1  267047309977805       101\n",
       "2  267047309977805       102"
      ]
     },
     "execution_count": 89,
     "metadata": {},
     "output_type": "execute_result"
    }
   ],
   "source": [
    "#movie-genre mapping\n",
    "movie_genre_maping = pd.DataFrame()\n",
    "movie_genre_maping[['movie_id','genre_id']] = movie_data[['Movie_id','genre_id']]\n",
    "movie_genre_maping = movie_genre_maping.drop_duplicates()\n",
    "movie_genre_maping.head(3)"
   ]
  },
  {
   "cell_type": "code",
   "execution_count": 90,
   "metadata": {},
   "outputs": [
    {
     "data": {
      "text/html": [
       "<div>\n",
       "<style>\n",
       "    .dataframe thead tr:only-child th {\n",
       "        text-align: right;\n",
       "    }\n",
       "\n",
       "    .dataframe thead th {\n",
       "        text-align: left;\n",
       "    }\n",
       "\n",
       "    .dataframe tbody tr th {\n",
       "        vertical-align: top;\n",
       "    }\n",
       "</style>\n",
       "<table border=\"1\" class=\"dataframe\">\n",
       "  <thead>\n",
       "    <tr style=\"text-align: right;\">\n",
       "      <th></th>\n",
       "      <th>movie_id</th>\n",
       "      <th>certificate_id</th>\n",
       "    </tr>\n",
       "  </thead>\n",
       "  <tbody>\n",
       "    <tr>\n",
       "      <th>0</th>\n",
       "      <td>267047309977805</td>\n",
       "      <td>1</td>\n",
       "    </tr>\n",
       "    <tr>\n",
       "      <th>16</th>\n",
       "      <td>422679747902228</td>\n",
       "      <td>2</td>\n",
       "    </tr>\n",
       "    <tr>\n",
       "      <th>28</th>\n",
       "      <td>387651361687615</td>\n",
       "      <td>2</td>\n",
       "    </tr>\n",
       "  </tbody>\n",
       "</table>\n",
       "</div>"
      ],
      "text/plain": [
       "           movie_id  certificate_id\n",
       "0   267047309977805               1\n",
       "16  422679747902228               2\n",
       "28  387651361687615               2"
      ]
     },
     "execution_count": 90,
     "metadata": {},
     "output_type": "execute_result"
    }
   ],
   "source": [
    "#movie-certificate mapping\n",
    "movie_certificate_maping = pd.DataFrame()\n",
    "movie_certificate_maping[['movie_id','certificate_id']] = movie_data[['Movie_id','certificate_id']]\n",
    "movie_certificate_maping = movie_certificate_maping.drop_duplicates()\n",
    "movie_certificate_maping.head(3)"
   ]
  },
  {
   "cell_type": "code",
   "execution_count": 91,
   "metadata": {},
   "outputs": [
    {
     "data": {
      "text/html": [
       "<div>\n",
       "<style>\n",
       "    .dataframe thead tr:only-child th {\n",
       "        text-align: right;\n",
       "    }\n",
       "\n",
       "    .dataframe thead th {\n",
       "        text-align: left;\n",
       "    }\n",
       "\n",
       "    .dataframe tbody tr th {\n",
       "        vertical-align: top;\n",
       "    }\n",
       "</style>\n",
       "<table border=\"1\" class=\"dataframe\">\n",
       "  <thead>\n",
       "    <tr style=\"text-align: right;\">\n",
       "      <th></th>\n",
       "      <th>movie_id</th>\n",
       "      <th>post_id</th>\n",
       "    </tr>\n",
       "  </thead>\n",
       "  <tbody>\n",
       "    <tr>\n",
       "      <th>0</th>\n",
       "      <td>6.350540e+14</td>\n",
       "      <td>635054059945646_1531844043599972</td>\n",
       "    </tr>\n",
       "    <tr>\n",
       "      <th>1</th>\n",
       "      <td>6.350540e+14</td>\n",
       "      <td>635054059945646_1530626643721712</td>\n",
       "    </tr>\n",
       "    <tr>\n",
       "      <th>2</th>\n",
       "      <td>6.350540e+14</td>\n",
       "      <td>635054059945646_1529848977132812</td>\n",
       "    </tr>\n",
       "  </tbody>\n",
       "</table>\n",
       "</div>"
      ],
      "text/plain": [
       "       movie_id                           post_id\n",
       "0  6.350540e+14  635054059945646_1531844043599972\n",
       "1  6.350540e+14  635054059945646_1530626643721712\n",
       "2  6.350540e+14  635054059945646_1529848977132812"
      ]
     },
     "execution_count": 91,
     "metadata": {},
     "output_type": "execute_result"
    }
   ],
   "source": [
    "#movie-post mapping\n",
    "movie_post_maping = pd.DataFrame()\n",
    "movie_post_maping[['movie_id','post_id']] = post_data[['movie_id','post_id']]\n",
    "movie_post_maping = movie_post_maping.drop_duplicates()\n",
    "movie_post_maping.head(3)"
   ]
  },
  {
   "cell_type": "code",
   "execution_count": 92,
   "metadata": {
    "scrolled": true
   },
   "outputs": [
    {
     "data": {
      "text/html": [
       "<div>\n",
       "<style>\n",
       "    .dataframe thead tr:only-child th {\n",
       "        text-align: right;\n",
       "    }\n",
       "\n",
       "    .dataframe thead th {\n",
       "        text-align: left;\n",
       "    }\n",
       "\n",
       "    .dataframe tbody tr th {\n",
       "        vertical-align: top;\n",
       "    }\n",
       "</style>\n",
       "<table border=\"1\" class=\"dataframe\">\n",
       "  <thead>\n",
       "    <tr style=\"text-align: right;\">\n",
       "      <th></th>\n",
       "      <th>post_id</th>\n",
       "      <th>comments_id</th>\n",
       "    </tr>\n",
       "  </thead>\n",
       "  <tbody>\n",
       "    <tr>\n",
       "      <th>0</th>\n",
       "      <td>635054059945646_1531844043599972</td>\n",
       "      <td>1531844043599972_1531852783599098</td>\n",
       "    </tr>\n",
       "    <tr>\n",
       "      <th>1</th>\n",
       "      <td>635054059945646_1531844043599972</td>\n",
       "      <td>1531844043599972_1531875303596846</td>\n",
       "    </tr>\n",
       "    <tr>\n",
       "      <th>2</th>\n",
       "      <td>635054059945646_1531844043599972</td>\n",
       "      <td>1531844043599972_1532535360197507</td>\n",
       "    </tr>\n",
       "  </tbody>\n",
       "</table>\n",
       "</div>"
      ],
      "text/plain": [
       "                            post_id                        comments_id\n",
       "0  635054059945646_1531844043599972  1531844043599972_1531852783599098\n",
       "1  635054059945646_1531844043599972  1531844043599972_1531875303596846\n",
       "2  635054059945646_1531844043599972  1531844043599972_1532535360197507"
      ]
     },
     "execution_count": 92,
     "metadata": {},
     "output_type": "execute_result"
    }
   ],
   "source": [
    "#post-comment mapping\n",
    "post_comment_maping = pd.DataFrame()\n",
    "post_comment_maping[['post_id','comments_id']] = comment_data[['post_id','comments_id']]\n",
    "post_comment_maping = post_comment_maping.drop_duplicates()\n",
    "post_comment_maping.head(3)"
   ]
  },
  {
   "cell_type": "markdown",
   "metadata": {},
   "source": [
    "## Creating databases\n",
    "\n",
    "Now that we have our schma and the tables for the database ready, let us start creating the tables in the databases and start storing the vales in them."
   ]
  },
  {
   "cell_type": "code",
   "execution_count": 93,
   "metadata": {
    "collapsed": true
   },
   "outputs": [],
   "source": [
    "#creating connections\n",
    "conn = sqlite3.connect(\"imdb_movie.db\") #creates and connects to a database named \"imdb_movie\"\n",
    "c = conn.cursor()"
   ]
  },
  {
   "cell_type": "code",
   "execution_count": 94,
   "metadata": {},
   "outputs": [
    {
     "data": {
      "text/plain": [
       "<sqlite3.Cursor at 0xbe81cb85e0>"
      ]
     },
     "execution_count": 94,
     "metadata": {},
     "output_type": "execute_result"
    }
   ],
   "source": [
    "c.execute(\"\"\"DROP TABLE movie_master_table\"\"\")\n",
    "c.execute(\"\"\"CREATE TABLE movie_master_table(\n",
    "movie_id INTEGER PRIMARY KEY,\n",
    "movie_names CHAR(50),\n",
    "movie_description VARCHAR(200),\n",
    "imdb_ratings FLOAT,\n",
    "metascores INTEGER,\n",
    "runtime INTEGER,\n",
    "gross_value INTEGER,\n",
    "year_release CHAR(4));\"\"\") #creating a new tables within database"
   ]
  },
  {
   "cell_type": "code",
   "execution_count": 95,
   "metadata": {
    "collapsed": true
   },
   "outputs": [],
   "source": [
    "movie_master_table.to_sql(\"movie_master_table\", conn, if_exists = 'append', index = False) #Storing data frame to SQL database"
   ]
  },
  {
   "cell_type": "code",
   "execution_count": 96,
   "metadata": {},
   "outputs": [
    {
     "data": {
      "text/plain": [
       "<sqlite3.Cursor at 0xbe81cb85e0>"
      ]
     },
     "execution_count": 96,
     "metadata": {},
     "output_type": "execute_result"
    }
   ],
   "source": [
    "c.execute(\"\"\"DROP TABLE starcast_master_table;\"\"\")\n",
    "c.execute(\"\"\"CREATE TABLE starcast_master_table(\n",
    "starcast_id INTEGER PRIMARY KEY,\n",
    "starcast_name CHAR NOT NULL);\"\"\") #creating a new tables within database"
   ]
  },
  {
   "cell_type": "code",
   "execution_count": 97,
   "metadata": {
    "collapsed": true
   },
   "outputs": [],
   "source": [
    "starcast_master_table.to_sql(\"starcast_master_table\", conn, if_exists = 'append', index = False) #Storing data frame to SQL database"
   ]
  },
  {
   "cell_type": "code",
   "execution_count": 98,
   "metadata": {},
   "outputs": [
    {
     "data": {
      "text/plain": [
       "<sqlite3.Cursor at 0xbe81cb85e0>"
      ]
     },
     "execution_count": 98,
     "metadata": {},
     "output_type": "execute_result"
    }
   ],
   "source": [
    "c.execute(\"\"\"DROP TABLE director_master_table;\"\"\")\n",
    "c.execute(\"\"\"CREATE TABLE director_master_table(\n",
    "director_id INTEGER PRIMARY KEY,\n",
    "director_name CHAR NOT NULL);\"\"\") #creating a new tables within database"
   ]
  },
  {
   "cell_type": "code",
   "execution_count": 99,
   "metadata": {
    "collapsed": true
   },
   "outputs": [],
   "source": [
    "director_master_table.to_sql(\"director_master_table\", conn, if_exists = 'append', index = False) #Storing data frame to SQL database"
   ]
  },
  {
   "cell_type": "code",
   "execution_count": 100,
   "metadata": {},
   "outputs": [
    {
     "data": {
      "text/plain": [
       "<sqlite3.Cursor at 0xbe81cb85e0>"
      ]
     },
     "execution_count": 100,
     "metadata": {},
     "output_type": "execute_result"
    }
   ],
   "source": [
    "c.execute(\"\"\"DROP TABLE genre_master_table;\"\"\")\n",
    "c.execute(\"\"\"CREATE TABLE genre_master_table(\n",
    "genre_id INTEGER PRIMARY KEY,\n",
    "genre CHAR NOT NULL);\"\"\") #creating a new tables within database"
   ]
  },
  {
   "cell_type": "code",
   "execution_count": 101,
   "metadata": {
    "collapsed": true
   },
   "outputs": [],
   "source": [
    "genre_master_table.to_sql(\"genre_master_table\", conn, if_exists = 'append', index = False) #Storing data frame to SQL database"
   ]
  },
  {
   "cell_type": "code",
   "execution_count": 102,
   "metadata": {},
   "outputs": [
    {
     "data": {
      "text/plain": [
       "<sqlite3.Cursor at 0xbe81cb85e0>"
      ]
     },
     "execution_count": 102,
     "metadata": {},
     "output_type": "execute_result"
    }
   ],
   "source": [
    "c.execute(\"\"\"DROP TABLE certificate_master_table;\"\"\")\n",
    "c.execute(\"\"\"CREATE TABLE certificate_master_table(\n",
    "certificate_id INTEGER PRIMARY KEY,\n",
    "certificate CHAR NOT NULL);\"\"\") #creating a new tables within database"
   ]
  },
  {
   "cell_type": "code",
   "execution_count": 103,
   "metadata": {
    "collapsed": true
   },
   "outputs": [],
   "source": [
    "certificate_master_table.to_sql(\"certificate_master_table\", conn, if_exists = 'append', index = False) #Storing data frame to SQL database"
   ]
  },
  {
   "cell_type": "code",
   "execution_count": 110,
   "metadata": {},
   "outputs": [
    {
     "data": {
      "text/plain": [
       "<sqlite3.Cursor at 0xbe81cb85e0>"
      ]
     },
     "execution_count": 110,
     "metadata": {},
     "output_type": "execute_result"
    }
   ],
   "source": [
    "c.execute(\"\"\"DROP TABLE posts_master_table;\"\"\")\n",
    "c.execute(\"\"\"CREATE TABLE posts_master_table(\n",
    "post_id CHAR PRIMARY KEY,\n",
    "created_at DATE,\n",
    "post_message CHAR,\n",
    "likes_count INTEGER,\n",
    "share_count INTEGER,\n",
    "comments_count INTEGER,\n",
    "user_engagement INTEGER) ;\"\"\") #creating a new tables within database"
   ]
  },
  {
   "cell_type": "code",
   "execution_count": 111,
   "metadata": {
    "collapsed": true
   },
   "outputs": [],
   "source": [
    "posts_master_table.to_sql(\"posts_master_table\", conn, if_exists = 'append', index = False) #Storing data frame to SQL database"
   ]
  },
  {
   "cell_type": "code",
   "execution_count": 112,
   "metadata": {},
   "outputs": [
    {
     "data": {
      "text/plain": [
       "<sqlite3.Cursor at 0xbe81cb85e0>"
      ]
     },
     "execution_count": 112,
     "metadata": {},
     "output_type": "execute_result"
    }
   ],
   "source": [
    "c.execute(\"\"\"DROP TABLE comments_master_table;\"\"\")\n",
    "c.execute(\"\"\"CREATE TABLE comments_master_table(\n",
    "comments_id CHAR PRIMARY KEY,\n",
    "created_at DATE,\n",
    "comments CHAR);\"\"\") #creating a new tables within database"
   ]
  },
  {
   "cell_type": "code",
   "execution_count": 113,
   "metadata": {
    "collapsed": true
   },
   "outputs": [],
   "source": [
    "comments_master_table.to_sql(\"comments_master_table\", conn, if_exists = 'append', index = False) #Storing data frame to SQL database"
   ]
  },
  {
   "cell_type": "markdown",
   "metadata": {},
   "source": [
    "## Creating connection to the database\n",
    "\n",
    "Here, we are using SQLite database management system in order to create store and analyse our data. we create a relational database schema and store our data inside.\n"
   ]
  },
  {
   "cell_type": "code",
   "execution_count": 114,
   "metadata": {},
   "outputs": [
    {
     "data": {
      "text/plain": [
       "<sqlite3.Cursor at 0xbe81cb85e0>"
      ]
     },
     "execution_count": 114,
     "metadata": {},
     "output_type": "execute_result"
    }
   ],
   "source": [
    "c.execute(\"\"\"DROP TABLE movie_director_maping;\"\"\")\n",
    "c.execute(\"\"\"CREATE TABLE movie_director_maping(\n",
    "movie_id INTEGER FOREGION KEY,\n",
    "director_id INTEGER FOREGION KEY)\"\"\") #creating a new tables within database"
   ]
  },
  {
   "cell_type": "code",
   "execution_count": 115,
   "metadata": {
    "collapsed": true
   },
   "outputs": [],
   "source": [
    "movie_director_maping.to_sql(\"movie_director_maping\", conn, if_exists = 'append', index = False) #Storing data frame to SQL database"
   ]
  },
  {
   "cell_type": "code",
   "execution_count": 116,
   "metadata": {},
   "outputs": [
    {
     "data": {
      "text/plain": [
       "<sqlite3.Cursor at 0xbe81cb85e0>"
      ]
     },
     "execution_count": 116,
     "metadata": {},
     "output_type": "execute_result"
    }
   ],
   "source": [
    "c.execute(\"\"\"DROP TABLE movie_starcast_maping;\"\"\")\n",
    "c.execute(\"\"\"CREATE TABLE movie_starcast_maping(\n",
    "movie_id INTEGER FOREGION KEY,\n",
    "starcast_id INTEGER FOREGION KEY)\"\"\") #creating a new tables within database"
   ]
  },
  {
   "cell_type": "code",
   "execution_count": 117,
   "metadata": {
    "collapsed": true
   },
   "outputs": [],
   "source": [
    "movie_starcast_maping.to_sql(\"movie_starcast_maping\", conn, if_exists = 'append', index = False) #Storing data frame to SQL database"
   ]
  },
  {
   "cell_type": "code",
   "execution_count": 118,
   "metadata": {},
   "outputs": [
    {
     "data": {
      "text/plain": [
       "<sqlite3.Cursor at 0xbe81cb85e0>"
      ]
     },
     "execution_count": 118,
     "metadata": {},
     "output_type": "execute_result"
    }
   ],
   "source": [
    "c.execute(\"\"\"DROP TABLE movie_genre_maping;\"\"\")\n",
    "c.execute(\"\"\"CREATE TABLE movie_genre_maping(\n",
    "movie_id INTEGER FOREGION KEY,\n",
    "genre_id INTEGER FOREGION KEY)\"\"\") #creating a new tables within database"
   ]
  },
  {
   "cell_type": "code",
   "execution_count": 119,
   "metadata": {
    "collapsed": true
   },
   "outputs": [],
   "source": [
    "movie_genre_maping.to_sql(\"movie_genre_maping\", conn, if_exists = 'append', index = False) #Storing data frame to SQL database"
   ]
  },
  {
   "cell_type": "code",
   "execution_count": 120,
   "metadata": {},
   "outputs": [
    {
     "data": {
      "text/plain": [
       "<sqlite3.Cursor at 0xbe81cb85e0>"
      ]
     },
     "execution_count": 120,
     "metadata": {},
     "output_type": "execute_result"
    }
   ],
   "source": [
    "c.execute(\"\"\"DROP TABLE movie_certificate_maping;\"\"\")\n",
    "c.execute(\"\"\"CREATE TABLE movie_certificate_maping(\n",
    "movie_id INTEGER FOREGION KEY,\n",
    "certificate_id INTEGER FOREGION KEY)\"\"\") #creating a new tables within database"
   ]
  },
  {
   "cell_type": "code",
   "execution_count": 121,
   "metadata": {
    "collapsed": true
   },
   "outputs": [],
   "source": [
    "movie_certificate_maping.to_sql(\"movie_certificate_maping\", conn, if_exists = 'append', index = False) #Storing data frame to SQL database"
   ]
  },
  {
   "cell_type": "code",
   "execution_count": 122,
   "metadata": {},
   "outputs": [
    {
     "data": {
      "text/plain": [
       "<sqlite3.Cursor at 0xbe81cb85e0>"
      ]
     },
     "execution_count": 122,
     "metadata": {},
     "output_type": "execute_result"
    }
   ],
   "source": [
    "c.execute(\"\"\"DROP TABLE movie_post_maping;\"\"\")\n",
    "c.execute(\"\"\"CREATE TABLE movie_post_maping(\n",
    "movie_id INTEGER FOREGION KEY,\n",
    "post_id CHAR FOREGION KEY)\"\"\") #creating a new tables within database"
   ]
  },
  {
   "cell_type": "code",
   "execution_count": 123,
   "metadata": {
    "collapsed": true
   },
   "outputs": [],
   "source": [
    "movie_post_maping.to_sql(\"movie_post_maping\", conn, if_exists = 'append', index = False) #Storing data frame to SQL database"
   ]
  },
  {
   "cell_type": "code",
   "execution_count": 124,
   "metadata": {},
   "outputs": [
    {
     "data": {
      "text/plain": [
       "<sqlite3.Cursor at 0xbe81cb85e0>"
      ]
     },
     "execution_count": 124,
     "metadata": {},
     "output_type": "execute_result"
    }
   ],
   "source": [
    "c.execute(\"\"\"DROP TABLE post_comment_maping;\"\"\")\n",
    "c.execute(\"\"\"CREATE TABLE post_comment_maping(\n",
    "post_id CHAR FOREGION KEY,\n",
    "comments_id CHAR FOREGION KEY)\"\"\") #creating a new tables within database"
   ]
  },
  {
   "cell_type": "code",
   "execution_count": 125,
   "metadata": {
    "collapsed": true
   },
   "outputs": [],
   "source": [
    "post_comment_maping.to_sql(\"post_comment_maping\", conn, if_exists = 'append', index = False) #Storing data frame to SQL database"
   ]
  },
  {
   "cell_type": "markdown",
   "metadata": {},
   "source": [
    "## Answerig Questions\n",
    "\n",
    "Now that we have aggregated our dataset, let us go ahead and try to answer certain basic questions on the basis of data we have collected. The way we will be answering these questions may not be best way to go about in real life, but it gives us a good start to getting insights.\n",
    "\n",
    "The quetions we will be addressing here are:\n",
    "- What tags are associated with person, place or thing?\n",
    "- What social media users are like other social media useres in our domain?\n",
    "- What people, places or things are famous in our domain?\n",
    "- What people places or things are trending in our domain?\n",
    "\n",
    " We will answer all this questions by implementing our usecases using SQL queries "
   ]
  },
  {
   "cell_type": "markdown",
   "metadata": {},
   "source": [
    "# Question 1:\n",
    "## What tags are associated with person, place or thing?\n",
    "\n",
    "I have chosen the movie names as tags for my database"
   ]
  },
  {
   "cell_type": "code",
   "execution_count": 141,
   "metadata": {},
   "outputs": [
    {
     "data": {
      "text/html": [
       "<div>\n",
       "<style>\n",
       "    .dataframe thead tr:only-child th {\n",
       "        text-align: right;\n",
       "    }\n",
       "\n",
       "    .dataframe thead th {\n",
       "        text-align: left;\n",
       "    }\n",
       "\n",
       "    .dataframe tbody tr th {\n",
       "        vertical-align: top;\n",
       "    }\n",
       "</style>\n",
       "<table border=\"1\" class=\"dataframe\">\n",
       "  <thead>\n",
       "    <tr style=\"text-align: right;\">\n",
       "      <th></th>\n",
       "      <th>starcast_name</th>\n",
       "      <th>movie_names</th>\n",
       "    </tr>\n",
       "  </thead>\n",
       "  <tbody>\n",
       "    <tr>\n",
       "      <th>0</th>\n",
       "      <td>James Mangold</td>\n",
       "      <td>Logan</td>\n",
       "    </tr>\n",
       "    <tr>\n",
       "      <th>1</th>\n",
       "      <td>Hugh Jackman</td>\n",
       "      <td>Logan</td>\n",
       "    </tr>\n",
       "    <tr>\n",
       "      <th>2</th>\n",
       "      <td>Patrick Stewart</td>\n",
       "      <td>Logan</td>\n",
       "    </tr>\n",
       "    <tr>\n",
       "      <th>3</th>\n",
       "      <td>Dafne Keen</td>\n",
       "      <td>Logan</td>\n",
       "    </tr>\n",
       "    <tr>\n",
       "      <th>4</th>\n",
       "      <td>Patty Jenkins</td>\n",
       "      <td>Wonder Woman</td>\n",
       "    </tr>\n",
       "  </tbody>\n",
       "</table>\n",
       "</div>"
      ],
      "text/plain": [
       "     starcast_name   movie_names\n",
       "0    James Mangold         Logan\n",
       "1     Hugh Jackman         Logan\n",
       "2  Patrick Stewart         Logan\n",
       "3       Dafne Keen         Logan\n",
       "4    Patty Jenkins  Wonder Woman"
      ]
     },
     "execution_count": 141,
     "metadata": {},
     "output_type": "execute_result"
    }
   ],
   "source": [
    "pd.read_sql_query(\"\"\"SELECT starcast_name, movie_names\n",
    "FROM movie_master_table mmt\n",
    "JOIN movie_starcast_maping msm ON mmt.movie_id = msm.movie_id\n",
    "JOIN starcast_master_table smt ON msm.starcast_id = smt.starcast_id;\"\"\",conn).head()"
   ]
  },
  {
   "cell_type": "markdown",
   "metadata": {},
   "source": [
    "# Question 3:\n",
    "## What people places or things are famous in our domain?\n",
    "\n",
    "To answer this question we check the posts of what movies(my tags) are being liked the most."
   ]
  },
  {
   "cell_type": "code",
   "execution_count": 127,
   "metadata": {},
   "outputs": [
    {
     "data": {
      "text/html": [
       "<div>\n",
       "<style>\n",
       "    .dataframe thead tr:only-child th {\n",
       "        text-align: right;\n",
       "    }\n",
       "\n",
       "    .dataframe thead th {\n",
       "        text-align: left;\n",
       "    }\n",
       "\n",
       "    .dataframe tbody tr th {\n",
       "        vertical-align: top;\n",
       "    }\n",
       "</style>\n",
       "<table border=\"1\" class=\"dataframe\">\n",
       "  <thead>\n",
       "    <tr style=\"text-align: right;\">\n",
       "      <th></th>\n",
       "      <th>movie_names</th>\n",
       "      <th>likes_count</th>\n",
       "    </tr>\n",
       "  </thead>\n",
       "  <tbody>\n",
       "    <tr>\n",
       "      <th>0</th>\n",
       "      <td>To the Bone</td>\n",
       "      <td>24477</td>\n",
       "    </tr>\n",
       "    <tr>\n",
       "      <th>1</th>\n",
       "      <td>Beauty and the Beast</td>\n",
       "      <td>19975</td>\n",
       "    </tr>\n",
       "    <tr>\n",
       "      <th>2</th>\n",
       "      <td>To the Bone</td>\n",
       "      <td>17715</td>\n",
       "    </tr>\n",
       "    <tr>\n",
       "      <th>3</th>\n",
       "      <td>To the Bone</td>\n",
       "      <td>14556</td>\n",
       "    </tr>\n",
       "    <tr>\n",
       "      <th>4</th>\n",
       "      <td>To the Bone</td>\n",
       "      <td>14423</td>\n",
       "    </tr>\n",
       "  </tbody>\n",
       "</table>\n",
       "</div>"
      ],
      "text/plain": [
       "            movie_names  likes_count\n",
       "0           To the Bone        24477\n",
       "1  Beauty and the Beast        19975\n",
       "2           To the Bone        17715\n",
       "3           To the Bone        14556\n",
       "4           To the Bone        14423"
      ]
     },
     "execution_count": 127,
     "metadata": {},
     "output_type": "execute_result"
    }
   ],
   "source": [
    "pd.read_sql_query(\"\"\" SELECT movie_names, likes_count\n",
    "FROM movie_master_table mmt\n",
    "JOIN movie_post_maping mpm ON mmt.movie_id = mpm.movie_id\n",
    "JOIN posts_master_table pmt ON mpm.post_id = pmt.post_id\n",
    "ORDER BY pmt.likes_count DESC;\"\"\", conn).head()"
   ]
  },
  {
   "cell_type": "markdown",
   "metadata": {},
   "source": [
    "# Question 2:\n",
    "## What people, place or thing is trending in our domain?\n",
    "\n",
    "To answer the question we check for user engagement with a particular post and the movie associated with that post. Engagement is the sum of counts of likes comments and shares a post gets."
   ]
  },
  {
   "cell_type": "code",
   "execution_count": 132,
   "metadata": {},
   "outputs": [
    {
     "data": {
      "text/html": [
       "<div>\n",
       "<style>\n",
       "    .dataframe thead tr:only-child th {\n",
       "        text-align: right;\n",
       "    }\n",
       "\n",
       "    .dataframe thead th {\n",
       "        text-align: left;\n",
       "    }\n",
       "\n",
       "    .dataframe tbody tr th {\n",
       "        vertical-align: top;\n",
       "    }\n",
       "</style>\n",
       "<table border=\"1\" class=\"dataframe\">\n",
       "  <thead>\n",
       "    <tr style=\"text-align: right;\">\n",
       "      <th></th>\n",
       "      <th>movie_names</th>\n",
       "      <th>user_engagement</th>\n",
       "      <th>created_at</th>\n",
       "    </tr>\n",
       "  </thead>\n",
       "  <tbody>\n",
       "    <tr>\n",
       "      <th>0</th>\n",
       "      <td>Beauty and the Beast</td>\n",
       "      <td>28968</td>\n",
       "      <td>2018-02-12 16:30:01</td>\n",
       "    </tr>\n",
       "    <tr>\n",
       "      <th>1</th>\n",
       "      <td>To the Bone</td>\n",
       "      <td>27843</td>\n",
       "      <td>2017-04-07 18:01:04</td>\n",
       "    </tr>\n",
       "    <tr>\n",
       "      <th>2</th>\n",
       "      <td>To the Bone</td>\n",
       "      <td>21302</td>\n",
       "      <td>2017-04-06 17:00:00</td>\n",
       "    </tr>\n",
       "    <tr>\n",
       "      <th>3</th>\n",
       "      <td>To the Bone</td>\n",
       "      <td>15970</td>\n",
       "      <td>2017-04-03 18:45:00</td>\n",
       "    </tr>\n",
       "    <tr>\n",
       "      <th>4</th>\n",
       "      <td>To the Bone</td>\n",
       "      <td>15440</td>\n",
       "      <td>2017-06-13 16:00:00</td>\n",
       "    </tr>\n",
       "  </tbody>\n",
       "</table>\n",
       "</div>"
      ],
      "text/plain": [
       "            movie_names  user_engagement           created_at\n",
       "0  Beauty and the Beast            28968  2018-02-12 16:30:01\n",
       "1           To the Bone            27843  2017-04-07 18:01:04\n",
       "2           To the Bone            21302  2017-04-06 17:00:00\n",
       "3           To the Bone            15970  2017-04-03 18:45:00\n",
       "4           To the Bone            15440  2017-06-13 16:00:00"
      ]
     },
     "execution_count": 132,
     "metadata": {},
     "output_type": "execute_result"
    }
   ],
   "source": [
    "pd.read_sql_query(\"\"\" SELECT movie_names, user_engagement, created_at\n",
    "FROM movie_master_table mmt\n",
    "JOIN movie_post_maping mpm ON mmt.movie_id = mpm.movie_id\n",
    "JOIN posts_master_table pmt ON mpm.post_id = pmt.post_id\n",
    "ORDER BY pmt.user_engagement DESC;\"\"\", conn).head()"
   ]
  },
  {
   "cell_type": "markdown",
   "metadata": {},
   "source": [
    "# Question 2:\n",
    "## what people are like other people in our domain?\n",
    "\n",
    "For this we see if the directors are working in the same genre. IF they work in the same domain we tag them as being similar"
   ]
  },
  {
   "cell_type": "code",
   "execution_count": 142,
   "metadata": {},
   "outputs": [
    {
     "data": {
      "text/html": [
       "<div>\n",
       "<style>\n",
       "    .dataframe thead tr:only-child th {\n",
       "        text-align: right;\n",
       "    }\n",
       "\n",
       "    .dataframe thead th {\n",
       "        text-align: left;\n",
       "    }\n",
       "\n",
       "    .dataframe tbody tr th {\n",
       "        vertical-align: top;\n",
       "    }\n",
       "</style>\n",
       "<table border=\"1\" class=\"dataframe\">\n",
       "  <thead>\n",
       "    <tr style=\"text-align: right;\">\n",
       "      <th></th>\n",
       "      <th>genre</th>\n",
       "      <th>starcast_name</th>\n",
       "    </tr>\n",
       "  </thead>\n",
       "  <tbody>\n",
       "    <tr>\n",
       "      <th>0</th>\n",
       "      <td>Action</td>\n",
       "      <td>James Mangold</td>\n",
       "    </tr>\n",
       "    <tr>\n",
       "      <th>1</th>\n",
       "      <td>Drama</td>\n",
       "      <td>James Mangold</td>\n",
       "    </tr>\n",
       "    <tr>\n",
       "      <th>2</th>\n",
       "      <td>Sci</td>\n",
       "      <td>James Mangold</td>\n",
       "    </tr>\n",
       "    <tr>\n",
       "      <th>3</th>\n",
       "      <td>Fi</td>\n",
       "      <td>James Mangold</td>\n",
       "    </tr>\n",
       "    <tr>\n",
       "      <th>4</th>\n",
       "      <td>Action</td>\n",
       "      <td>James Mangold</td>\n",
       "    </tr>\n",
       "  </tbody>\n",
       "</table>\n",
       "</div>"
      ],
      "text/plain": [
       "    genre  starcast_name\n",
       "0  Action  James Mangold\n",
       "1   Drama  James Mangold\n",
       "2     Sci  James Mangold\n",
       "3      Fi  James Mangold\n",
       "4  Action  James Mangold"
      ]
     },
     "execution_count": 142,
     "metadata": {},
     "output_type": "execute_result"
    }
   ],
   "source": [
    "pd.read_sql_query(\"\"\"SELECT genre, starcast_name\n",
    "FROM starcast_master_table smt, genre_master_table gmt\n",
    "JOIN movie_starcast_maping msm ON msm.starcast_id = smt.starcast_id\n",
    "JOIN movie_genre_maping mgm ON mgm.genre_id = gmt.genre_id\"\"\",conn).head()"
   ]
  }
 ],
 "metadata": {
  "kernelspec": {
   "display_name": "Python 3",
   "language": "python",
   "name": "python3"
  },
  "language_info": {
   "codemirror_mode": {
    "name": "ipython",
    "version": 3
   },
   "file_extension": ".py",
   "mimetype": "text/x-python",
   "name": "python",
   "nbconvert_exporter": "python",
   "pygments_lexer": "ipython3",
   "version": "3.5.4"
  }
 },
 "nbformat": 4,
 "nbformat_minor": 2
}
