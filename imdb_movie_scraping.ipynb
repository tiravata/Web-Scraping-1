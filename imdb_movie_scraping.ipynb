{
 "cells": [
  {
   "cell_type": "markdown",
   "metadata": {
    "collapsed": true
   },
   "source": [
    "# imdb_movie_scraping\n",
    "\n",
    "The dataset is a webscraped from IMDB website using BeautifulSoup. This tutorial is an advanced version of my previous notebook and assumes that the user knows the basics of HTML and BeautifulSoup. For a more basic overview please look at the previous notebooks."
   ]
  },
  {
   "cell_type": "code",
   "execution_count": 40,
   "metadata": {
    "collapsed": true
   },
   "outputs": [],
   "source": [
    "from requests import get #the package which fetches the HTML doc from the url for us\n",
    "import re"
   ]
  },
  {
   "cell_type": "markdown",
   "metadata": {},
   "source": [
    "Say if you want to scrape a list of 1000 movies, we would have to send in 1000 requests to the website. Assuming each request takes 1 second to execute, it would take a 1000 seconds to execute. When we explore the website a bit we find noval ways which will help us to execute our scraping much more faster. "
   ]
  },
  {
   "cell_type": "code",
   "execution_count": 2,
   "metadata": {
    "collapsed": true
   },
   "outputs": [],
   "source": [
    "url = \"http://www.imdb.com/search/title?release_date=2017&sort=num_votes,desc&page=1\""
   ]
  },
  {
   "cell_type": "markdown",
   "metadata": {},
   "source": [
    "# Inspecting the link\n",
    "\n",
    "Exploring the IMDB site for a while we find that while using advanced search feature we can have look at the best movies in the given time frame by 50 movies per page. This reduces our time 50 times as we can extract 50 movies per request.\n",
    "\n",
    "further let's explore the url to have a better understanding of waht is happeninng on each request. The link has following elements:\n",
    "\n",
    "- *release_date*: this is takes in the value for the year we are interested in. (2017 in our case)\n",
    "- *sort*: this takes in the value by which we want to sort our list. (num_votes,desc in our case, desc suggests descending order)\n",
    "- *page*: this takes the page number we are interested in. (1 in our case)\n",
    "\n",
    "Further when you click on the next tab, we get an additional element in the link:\n",
    "\"http://www.imdb.com/search/title?release_date=2017&sort=num_votes,desc&page=2&ref_=adv_nxt\"\n",
    "\n",
    "- ref: this suggests if we want to go on the next or the previous page."
   ]
  },
  {
   "cell_type": "code",
   "execution_count": 3,
   "metadata": {},
   "outputs": [
    {
     "name": "stdout",
     "output_type": "stream",
     "text": [
      "\n",
      "\n",
      "\n",
      "\n",
      "<!DOCTYPE html>\n",
      "<html\n",
      "xmlns:og=\"http://ogp.me/ns#\"\n",
      "xmlns:fb=\"http://www.facebook.com/2008/fbml\">\n",
      "    <head>\n",
      "        <meta charset=\"utf-8\">\n",
      "        <meta http-equiv=\"X-UA-Compatible\" content=\"IE=edge\">\n",
      "\n",
      "    <meta name=\"apple-itunes-app\" content=\"app-id=342792525, app-argument=imdb:///?src=mdot\">\n",
      "            <script type=\"text/javascript\">var ue_t0=window.ue_t0||+new Date();</script>\n",
      "            <script type=\"text/javascript\">\n",
      "                var ue_mid = \"A1EVAM02EL8SFB\"; \n",
      "                var\n"
     ]
    }
   ],
   "source": [
    "response = get(url)\n",
    "print(response.text[:500]) #acccessing the .text attribute of response"
   ]
  },
  {
   "cell_type": "markdown",
   "metadata": {
    "collapsed": true
   },
   "source": [
    "# Understanding the HTML structure of the page\n",
    "\n",
    "As we can see get() method pulls up the html document for the url. To further pull out the data we want we need to closely inspect the HTML content of the page. We can turn to the developer tools of chrome for this, cntrl+shift+i or simply right clicking on the element you want to study and seelcting the inspect element will pull up that data set for you. (This is performed on chrome bust should work with other browsers as well.)\n",
    "\n",
    "We observe that there is a div tag for each movie. Thus, we can simply loop through the 50 dev tags assosicated with each movie using BeautifulSoup."
   ]
  },
  {
   "cell_type": "code",
   "execution_count": 4,
   "metadata": {},
   "outputs": [
    {
     "data": {
      "text/plain": [
       "bs4.BeautifulSoup"
      ]
     },
     "execution_count": 4,
     "metadata": {},
     "output_type": "execute_result"
    }
   ],
   "source": [
    "from bs4 import BeautifulSoup as bs # importing BeautifulSoup as bs\n",
    "\n",
    "html_soup = bs(response.text, \"html.parser\") #using python's built in HTML parser\n",
    "type(html_soup)"
   ]
  },
  {
   "cell_type": "markdown",
   "metadata": {
    "collapsed": true
   },
   "source": [
    "Before extracting 50 div containers, we need to figure out what makes them unique. While exploring the HTML content we find that the class attribute has two values \"lister-item\" and \"mode-advanced\". This combination is unique to all the div containers. "
   ]
  },
  {
   "cell_type": "code",
   "execution_count": 5,
   "metadata": {},
   "outputs": [
    {
     "name": "stdout",
     "output_type": "stream",
     "text": [
      "<class 'bs4.element.ResultSet'>\n"
     ]
    },
    {
     "data": {
      "text/plain": [
       "50"
      ]
     },
     "execution_count": 5,
     "metadata": {},
     "output_type": "execute_result"
    }
   ],
   "source": [
    "movie_containers = html_soup.find_all(\"div\", class_ = \"lister-item mode-advanced\") #find_all() used to find all the tags\n",
    "print(type(movie_containers))\n",
    "len(movie_containers)"
   ]
  },
  {
   "cell_type": "markdown",
   "metadata": {},
   "source": [
    "find_all() returned a ResultSet object with the length of 50 movies we are interested in.\n",
    "\n",
    "Now, we'll select the conatainers one by one and extract the elements of our interest like:\n",
    "\n",
    "- The name of movie.\n",
    "- The year of release.\n",
    "- The IMDB rating.\n",
    "- The metascore.\n",
    "- The number of votes\n",
    "etc..."
   ]
  },
  {
   "cell_type": "code",
   "execution_count": 19,
   "metadata": {},
   "outputs": [],
   "source": [
    "#list to store scraped value data in:\n",
    "movie_names = []\n",
    "year_release = []\n",
    "imdb_ratings = []\n",
    "metascores = []\n",
    "votes = []\n",
    "movie_description = []\n",
    "certificate = []\n",
    "runtime = []\n",
    "genre = []\n",
    "director_name = []\n",
    "star_cast = []\n",
    "gross_value = []\n",
    "\n",
    "#extract data from individual movie container\n",
    "for container in movie_containers:\n",
    "    \n",
    "   \n",
    "    #if movie has Metascore, then extract:\n",
    "    if container.find(\"div\", class_ = \"ratings-metascore\") is not None:\n",
    "        \n",
    "                #the movie_name\n",
    "                name = str(container.h3.a.text)\n",
    "                #The year of release\n",
    "                release = container.find(\"span\", class_ = \"lister-item-year text-muted unbold\").text\n",
    "                #The ratings for the movie\n",
    "                ratings = float(container.strong.text)\n",
    "                #metascore for the movie\n",
    "                meta = container.find(\"span\", class_ = \"metascore\").text\n",
    "                #The number of votes\n",
    "                vote = container.find(\"span\", attrs = {\"name\":\"nv\"})['data-value']\n",
    "                #the certificate for the movie\n",
    "                if container.find(\"span\", class_ = \"certificate\") is not None:\n",
    "                    certi = container.find(\"span\", class_ = \"certificate\").text\n",
    "                else:\n",
    "                    certi = None\n",
    "                 #The runtime for the movie   \n",
    "                if container.find(\"span\", class_ =\"runtime\") is not None:\n",
    "                    run = container.find(\"span\", class_ =\"runtime\").text\n",
    "                else:\n",
    "                    run = None\n",
    "                 #The genre of the movie   \n",
    "                if container.find(\"span\", class_ =\"genre\") is not None:\n",
    "                    gen = container.find(\"span\", class_ =\"genre\").text\n",
    "                else:\n",
    "                    gen = None   \n",
    "                \n",
    "                #fetching all <p> tags\n",
    "                content = container.find_all(\"p\")\n",
    "                \n",
    "                #The movie description\n",
    "                if content[1] is not None:\n",
    "                    desc = content[1].text\n",
    "                else:\n",
    "                    desc = None\n",
    "                \n",
    "                #subsetting all the <a> tags in 3rd <p> tag\n",
    "                content_2 = content[2].find_all(\"a\")\n",
    "                \n",
    "                #the director\n",
    "                if content_2[0] is not None:\n",
    "                    director = content_2[0].text\n",
    "                else:\n",
    "                    director = None\n",
    "                \n",
    "                #the gross value\n",
    "                if len(container.find_all(\"span\", attrs = {\"name\":\"nv\"})) >= 2:\n",
    "                    gross = container.find_all(\"span\", attrs = {\"name\":\"nv\"})[1]['data-value']\n",
    "                else:\n",
    "                    gross = None\n",
    "                    \n",
    "                 #extracting artists names\n",
    "                if content_2[1] is not None:\n",
    "                    temp = []\n",
    "                    for i in range(len(content_2)-1):\n",
    "                        temp.append(content_2[i].text)\n",
    "                else:\n",
    "                    for i in range(len(content_2)-1):\n",
    "                        temp.append(None)\n",
    "                        \n",
    "                #Cleaning the data using regular Expressions:\n",
    "                \n",
    "                name = str(name)\n",
    "                desc = str(re.findall(r\"[^\\\\r\\n].+\",desc))\n",
    "                gen = re.findall(r\"([^\\\\r\\\\n\\s,][a-zA-Z]+)\",gen)\n",
    "                \n",
    "                if (gross != None):\n",
    "                    gross = int(gross.replace(\",\",\"\"))\n",
    "                \n",
    "                if (run != None):\n",
    "                    run = int(re.findall(r\"[0-9].+[^a-zA-Z-]\", run)[0])\n",
    "                    \n",
    "                if (release != None):\n",
    "                    release = str(re.findall(r\"[0-9].+[^a-zA-Z-]\",release))\n",
    "                    \n",
    "                for i in range(len(content_2)-1):\n",
    "                    for j in range(len(gen)):\n",
    "                        movie_names.append(str(name))\n",
    "                        year_release.append(release)\n",
    "                        imdb_ratings.append(ratings)\n",
    "                        metascores.append(int(meta))\n",
    "                        votes.append(int(vote))\n",
    "                        movie_description.append(desc)\n",
    "                        gross_value.append(gross)\n",
    "                        runtime.append(run)\n",
    "                        certificate.append(str(certi))\n",
    "                        director_name.append(str(director))\n",
    "                        star_cast.append(str(temp[i]))\n",
    "                        genre.append(str(gen[j]))\n",
    "        \n",
    "    \n",
    "        \n",
    "                "
   ]
  },
  {
   "cell_type": "code",
   "execution_count": 20,
   "metadata": {
    "collapsed": true
   },
   "outputs": [],
   "source": [
    "import pandas as pd\n",
    "\n",
    "test_df = pd.DataFrame({\"movie_names\":movie_names,\n",
    "                        \"year_release\":year_release,\n",
    "                        \"imdb_ratings\":imdb_ratings,\n",
    "                        \"metscores\":metascores,\n",
    "                        \"votes\":votes,\n",
    "                        \"movie_description\":movie_description,\n",
    "                        \"certificate\":certificate,\n",
    "                        \"runtime\":runtime,\n",
    "                        \"genre\":genre,\n",
    "                        \"director_name\": director_name,\n",
    "                        \"star_cast\": star_cast,\n",
    "                        \"gross_value\":gross_value\n",
    "                       })"
   ]
  },
  {
   "cell_type": "code",
   "execution_count": 39,
   "metadata": {},
   "outputs": [
    {
     "data": {
      "text/html": [
       "<div>\n",
       "<style>\n",
       "    .dataframe thead tr:only-child th {\n",
       "        text-align: right;\n",
       "    }\n",
       "\n",
       "    .dataframe thead th {\n",
       "        text-align: left;\n",
       "    }\n",
       "\n",
       "    .dataframe tbody tr th {\n",
       "        vertical-align: top;\n",
       "    }\n",
       "</style>\n",
       "<table border=\"1\" class=\"dataframe\">\n",
       "  <thead>\n",
       "    <tr style=\"text-align: right;\">\n",
       "      <th></th>\n",
       "      <th>certificate</th>\n",
       "      <th>director_name</th>\n",
       "      <th>genre</th>\n",
       "      <th>gross_value</th>\n",
       "      <th>imdb_ratings</th>\n",
       "      <th>metscores</th>\n",
       "      <th>movie_description</th>\n",
       "      <th>movie_names</th>\n",
       "      <th>runtime</th>\n",
       "      <th>star_cast</th>\n",
       "      <th>votes</th>\n",
       "      <th>year_release</th>\n",
       "    </tr>\n",
       "  </thead>\n",
       "  <tbody>\n",
       "    <tr>\n",
       "      <th>0</th>\n",
       "      <td>R</td>\n",
       "      <td>James Mangold</td>\n",
       "      <td>Action</td>\n",
       "      <td>226277068.0</td>\n",
       "      <td>8.1</td>\n",
       "      <td>77</td>\n",
       "      <td>[\"In the near future, a weary Logan cares for ...</td>\n",
       "      <td>Logan</td>\n",
       "      <td>137</td>\n",
       "      <td>James Mangold</td>\n",
       "      <td>452557</td>\n",
       "      <td>['2017)']</td>\n",
       "    </tr>\n",
       "    <tr>\n",
       "      <th>1</th>\n",
       "      <td>R</td>\n",
       "      <td>James Mangold</td>\n",
       "      <td>Drama</td>\n",
       "      <td>226277068.0</td>\n",
       "      <td>8.1</td>\n",
       "      <td>77</td>\n",
       "      <td>[\"In the near future, a weary Logan cares for ...</td>\n",
       "      <td>Logan</td>\n",
       "      <td>137</td>\n",
       "      <td>James Mangold</td>\n",
       "      <td>452557</td>\n",
       "      <td>['2017)']</td>\n",
       "    </tr>\n",
       "  </tbody>\n",
       "</table>\n",
       "</div>"
      ],
      "text/plain": [
       "  certificate  director_name   genre  gross_value  imdb_ratings  metscores  \\\n",
       "0           R  James Mangold  Action  226277068.0           8.1         77   \n",
       "1           R  James Mangold   Drama  226277068.0           8.1         77   \n",
       "\n",
       "                                   movie_description movie_names  runtime  \\\n",
       "0  [\"In the near future, a weary Logan cares for ...       Logan      137   \n",
       "1  [\"In the near future, a weary Logan cares for ...       Logan      137   \n",
       "\n",
       "       star_cast   votes year_release  \n",
       "0  James Mangold  452557    ['2017)']  \n",
       "1  James Mangold  452557    ['2017)']  "
      ]
     },
     "execution_count": 39,
     "metadata": {},
     "output_type": "execute_result"
    }
   ],
   "source": [
    "test_df.head(2)"
   ]
  },
  {
   "cell_type": "markdown",
   "metadata": {},
   "source": [
    "## Everything went just as expected!\n",
    "\n",
    "As a side note if you run the code in a country where english is not the main language, it is very likely that you will get the movie names translated into the main language of that country. To avoid such issues, include the headers = {\"Accept-Language\": \"en-US, en;q=0.5\"} as an argument in the get() command."
   ]
  },
  {
   "cell_type": "markdown",
   "metadata": {},
   "source": [
    "# Script for multiple pages\n",
    "\n",
    "Building a script to scrape multiple pages can be a bit more challenging, we will have to build upon our old script by adding three more things:\n",
    "\n",
    "- Making all the requests we want from within the loop.\n",
    "- Controlling the loops rate to avoid bombarding the server with requests.\n",
    "- Monitoring the loop while it is in progress.\n",
    "\n",
    "We'll scope through the first 4 pages of each year in the range 2000-2018"
   ]
  },
  {
   "cell_type": "markdown",
   "metadata": {},
   "source": [
    "# Changing URL parameters\n",
    "\n",
    "As described before, the URl changes certain logic as the web page changes.\n",
    "\n",
    "As we are making requests, we'll only have to vary the values of two parameters of the URL: \"release_date\" and \"page\"."
   ]
  },
  {
   "cell_type": "code",
   "execution_count": 23,
   "metadata": {
    "collapsed": true
   },
   "outputs": [],
   "source": [
    "pages = [str(i) for i in range(1,11)] #creating list of strings corresponding to 4 pages\n",
    "years = [str(i) for i in range(2017,2019)] #creating list corresponding to years 2000-2018"
   ]
  },
  {
   "cell_type": "markdown",
   "metadata": {},
   "source": [
    "# Controlling the crawl rate\n",
    "\n",
    "If we avoid flooding the server with tens of request per second, then we are much likely to avoid our Ip being banned permenantly. We also avpid disrupting the activity of the website we scrape by allowing server to respond to other user's requests too.\n",
    "\n",
    "We'll control the loop's rate by using the sleep() function in the python's \"time\" module. This will pause the execution of the loop for a specified amount of seconds.\n",
    "\n",
    "To mimic the human behavious and to render our requests legit we will vary the amount of waiting time between requests by using the randint() function from python's \"random\" module\n",
    "\n"
   ]
  },
  {
   "cell_type": "code",
   "execution_count": 24,
   "metadata": {
    "collapsed": true
   },
   "outputs": [],
   "source": [
    "from time import sleep\n",
    "from random import randint"
   ]
  },
  {
   "cell_type": "markdown",
   "metadata": {
    "collapsed": true
   },
   "source": [
    "# Monitoring the loop as it's still going\n",
    "\n",
    "Given that we have so many pages to scan through, it's better to have a way to moniter them while we are looping through them. This process in completely optional but is very helpful while debugging the process.If you are looping through say a 100+ pages, I'd say this is a must have feature.\n",
    "\n",
    "For our script, we'll make sure to use this feature and measure the following parameters:\n",
    "\n",
    "- The frequency of requests, just to make sure we are not overloading the server.\n",
    "\n",
    "- The number of requests, so we can halt the loop incase the number of requests is exceeded.\n",
    "\n",
    "- The status code of our requests, so we make sure the server is sending back the correct responses."
   ]
  },
  {
   "cell_type": "code",
   "execution_count": 26,
   "metadata": {},
   "outputs": [
    {
     "name": "stdout",
     "output_type": "stream",
     "text": [
      "Request: 20, Frequency: 0.06919363152835704 requests/s\n",
      "10 2018\n"
     ]
    }
   ],
   "source": [
    "from IPython.core.display import clear_output\n",
    "from time import time\n",
    "\n",
    "#redeclaring the variables\n",
    "\n",
    "movie_names = []\n",
    "year_release = []\n",
    "imdb_ratings = []\n",
    "metascores = []\n",
    "votes = []\n",
    "movie_description = []\n",
    "certificate = []\n",
    "runtime = []\n",
    "genre = []\n",
    "director_name = []\n",
    "star_cast = []\n",
    "gross_value = []\n",
    "\n",
    "#preparing the moniter of the loop\n",
    "start_time = time()\n",
    "requests = 0\n",
    "\n",
    "\n",
    "    \n",
    "#for every year in the interval 2000-2018\n",
    "for year in years:\n",
    "\n",
    "    #for every page in the onterval 1-4\n",
    "    for page in pages:\n",
    "\n",
    "        #make a get request\n",
    "        response = get(\"http://www.imdb.com/search/title?release_date=\" + year + \"&sort=num_votes,desc&page=\" + page)\n",
    "\n",
    "        #pause the loop\n",
    "        sleep(randint(8,15))\n",
    "\n",
    "        #monitor the requests\n",
    "        requests += 1\n",
    "        sleep(randint(1,3))\n",
    "        elapsed_time = time() - start_time\n",
    "        print(\"Request: {}, Frequency: {} requests/s\".format(requests, requests/elapsed_time))\n",
    "        print(page, year)\n",
    "        clear_output(wait = True)\n",
    "\n",
    "        #throw a warning for non-200 status codes\n",
    "        if response.status_code != 200:\n",
    "            warn(\"Request: {}, Status Code: {} \".format(requests, response.status_code))\n",
    "\n",
    "\n",
    "        #break the loop if the frequency of request is too higih\n",
    "        if requests > 200:\n",
    "            warn(\"Number of requests was greater than expected.\")\n",
    "            break\n",
    "\n",
    "        #parse the content through the html.parser using BeautifulSoup\n",
    "        html_page = bs(response.text, \"html.parser\")\n",
    "\n",
    "        #select all 50 movie container for a single page\n",
    "        containers = html_page.find_all(\"div\", class_ = \"lister-item mode-advanced\")\n",
    "\n",
    "        #for every movie of the 50 movies\n",
    "        for container in containers:\n",
    "\n",
    "            #if movie has Metascore, then extract:\n",
    "            if container.find(\"div\", class_ = \"ratings-metascore\") is not None:\n",
    "\n",
    "                #the movie_name\n",
    "                name = str(container.h3.a.text)\n",
    "                #The year of release\n",
    "                release = container.find(\"span\", class_ = \"lister-item-year text-muted unbold\").text\n",
    "                #The ratings for the movie\n",
    "                ratings = float(container.strong.text)\n",
    "                #metascore for the movie\n",
    "                meta = container.find(\"span\", class_ = \"metascore\").text\n",
    "                #The number of votes\n",
    "                vote = container.find(\"span\", attrs = {\"name\":\"nv\"})['data-value']\n",
    "                #the certificate for the movie\n",
    "                if container.find(\"span\", class_ = \"certificate\") is not None:\n",
    "                    certi = container.find(\"span\", class_ = \"certificate\").text\n",
    "                else:\n",
    "                    certi = None\n",
    "                 #The runtime for the movie   \n",
    "                if container.find(\"span\", class_ =\"runtime\") is not None:\n",
    "                    run = container.find(\"span\", class_ =\"runtime\").text\n",
    "                else:\n",
    "                    run = None\n",
    "                 #The genre of the movie   \n",
    "                if container.find(\"span\", class_ =\"genre\") is not None:\n",
    "                    gen = container.find(\"span\", class_ =\"genre\").text\n",
    "                else:\n",
    "                    gen = None   \n",
    "                \n",
    "                #fetching all <p> tags\n",
    "                content = container.find_all(\"p\")\n",
    "                \n",
    "                #The movie description\n",
    "                if content[1] is not None:\n",
    "                    desc = content[1].text\n",
    "                else:\n",
    "                    desc = None\n",
    "                \n",
    "                #subsetting all the <a> tags in 3rd <p> tag\n",
    "                content_2 = content[2].find_all(\"a\")\n",
    "                \n",
    "                #the director\n",
    "                if content_2[0] is not None:\n",
    "                    director = content_2[0].text\n",
    "                else:\n",
    "                    director = None\n",
    "                \n",
    "                #the gross value\n",
    "                if len(container.find_all(\"span\", attrs = {\"name\":\"nv\"})) >= 2:\n",
    "                    gross = container.find_all(\"span\", attrs = {\"name\":\"nv\"})[1]['data-value']\n",
    "                else:\n",
    "                    gross = None\n",
    "                    \n",
    "                 #extracting artists names\n",
    "                if content_2[1] is not None:\n",
    "                    temp = []\n",
    "                    for i in range(len(content_2)-1):\n",
    "                        temp.append(content_2[i].text)\n",
    "                else:\n",
    "                    for i in range(len(content_2)-1):\n",
    "                        temp.append(None)\n",
    "                        \n",
    "                #Cleaning the data using regular Expressions:\n",
    "                \n",
    "                name = str(name)\n",
    "                desc = str(re.findall(r\"[^\\\\r\\n].+\",desc))\n",
    "                #temp = re.findall(r\"'([^']*)'\",temp)\n",
    "                gen = re.findall(r\"([^\\\\r\\\\n\\s,][a-zA-Z]+)\",gen)\n",
    "                \n",
    "                if (gross != None):\n",
    "                    gross = int(gross.replace(\",\",\"\"))\n",
    "                \n",
    "                if (run != None):\n",
    "                    run = int(re.findall(r\"[0-9].+[^a-zA-Z-]\", run)[0])\n",
    "                    \n",
    "                if (release != None):\n",
    "                    release = str(re.findall(r\"[0-9].+[^a-zA-Z-]\",release))\n",
    "                 \n",
    "                #storing data in the list objects\n",
    "                for i in range(len(content_2)-1):\n",
    "                    for j in range(len(gen)):\n",
    "                        movie_names.append(str(name))\n",
    "                        year_release.append(release)\n",
    "                        imdb_ratings.append(ratings)\n",
    "                        metascores.append(int(meta))\n",
    "                        votes.append(int(vote))\n",
    "                        movie_description.append(desc)\n",
    "                        gross_value.append(gross)\n",
    "                        runtime.append(run)\n",
    "                        certificate.append(str(certi))\n",
    "                        director_name.append(str(director))\n",
    "                        star_cast.append(str(temp[i]))\n",
    "                        genre.append(str(gen[j]))"
   ]
  },
  {
   "cell_type": "code",
   "execution_count": 41,
   "metadata": {},
   "outputs": [
    {
     "data": {
      "text/html": [
       "<div>\n",
       "<style>\n",
       "    .dataframe thead tr:only-child th {\n",
       "        text-align: right;\n",
       "    }\n",
       "\n",
       "    .dataframe thead th {\n",
       "        text-align: left;\n",
       "    }\n",
       "\n",
       "    .dataframe tbody tr th {\n",
       "        vertical-align: top;\n",
       "    }\n",
       "</style>\n",
       "<table border=\"1\" class=\"dataframe\">\n",
       "  <thead>\n",
       "    <tr style=\"text-align: right;\">\n",
       "      <th></th>\n",
       "      <th>certificate</th>\n",
       "      <th>director_name</th>\n",
       "      <th>genre</th>\n",
       "      <th>gross_value</th>\n",
       "      <th>imdb_ratings</th>\n",
       "      <th>metscores</th>\n",
       "      <th>movie_description</th>\n",
       "      <th>movie_names</th>\n",
       "      <th>runtime</th>\n",
       "      <th>star_cast</th>\n",
       "      <th>votes</th>\n",
       "      <th>year_release</th>\n",
       "    </tr>\n",
       "  </thead>\n",
       "  <tbody>\n",
       "    <tr>\n",
       "      <th>0</th>\n",
       "      <td>R</td>\n",
       "      <td>James Mangold</td>\n",
       "      <td>Action</td>\n",
       "      <td>226277068.0</td>\n",
       "      <td>8.1</td>\n",
       "      <td>77</td>\n",
       "      <td>[\"In the near future, a weary Logan cares for ...</td>\n",
       "      <td>Logan</td>\n",
       "      <td>137</td>\n",
       "      <td>James Mangold</td>\n",
       "      <td>452598</td>\n",
       "      <td>['2017)']</td>\n",
       "    </tr>\n",
       "    <tr>\n",
       "      <th>1</th>\n",
       "      <td>R</td>\n",
       "      <td>James Mangold</td>\n",
       "      <td>Drama</td>\n",
       "      <td>226277068.0</td>\n",
       "      <td>8.1</td>\n",
       "      <td>77</td>\n",
       "      <td>[\"In the near future, a weary Logan cares for ...</td>\n",
       "      <td>Logan</td>\n",
       "      <td>137</td>\n",
       "      <td>James Mangold</td>\n",
       "      <td>452598</td>\n",
       "      <td>['2017)']</td>\n",
       "    </tr>\n",
       "    <tr>\n",
       "      <th>2</th>\n",
       "      <td>R</td>\n",
       "      <td>James Mangold</td>\n",
       "      <td>Sci</td>\n",
       "      <td>226277068.0</td>\n",
       "      <td>8.1</td>\n",
       "      <td>77</td>\n",
       "      <td>[\"In the near future, a weary Logan cares for ...</td>\n",
       "      <td>Logan</td>\n",
       "      <td>137</td>\n",
       "      <td>James Mangold</td>\n",
       "      <td>452598</td>\n",
       "      <td>['2017)']</td>\n",
       "    </tr>\n",
       "  </tbody>\n",
       "</table>\n",
       "</div>"
      ],
      "text/plain": [
       "  certificate  director_name   genre  gross_value  imdb_ratings  metscores  \\\n",
       "0           R  James Mangold  Action  226277068.0           8.1         77   \n",
       "1           R  James Mangold   Drama  226277068.0           8.1         77   \n",
       "2           R  James Mangold     Sci  226277068.0           8.1         77   \n",
       "\n",
       "                                   movie_description movie_names  runtime  \\\n",
       "0  [\"In the near future, a weary Logan cares for ...       Logan      137   \n",
       "1  [\"In the near future, a weary Logan cares for ...       Logan      137   \n",
       "2  [\"In the near future, a weary Logan cares for ...       Logan      137   \n",
       "\n",
       "       star_cast   votes year_release  \n",
       "0  James Mangold  452598    ['2017)']  \n",
       "1  James Mangold  452598    ['2017)']  \n",
       "2  James Mangold  452598    ['2017)']  "
      ]
     },
     "execution_count": 41,
     "metadata": {},
     "output_type": "execute_result"
    }
   ],
   "source": [
    "#storing scraped data into a data frame.\n",
    "\n",
    "imdb_movie_dataset = pd.DataFrame({\"movie_names\":movie_names,\n",
    "                        \"year_release\":year_release,\n",
    "                        \"imdb_ratings\":imdb_ratings,\n",
    "                        \"metscores\":metascores,\n",
    "                        \"votes\":votes,\n",
    "                        \"movie_description\":movie_description,\n",
    "                        \"certificate\":certificate,\n",
    "                        \"runtime\":runtime,\n",
    "                        \"genre\":genre,\n",
    "                        \"director_name\": director_name,\n",
    "                        \"star_cast\": star_cast,\n",
    "                        \"gross_value\":gross_value\n",
    "                       })\n",
    "\n",
    "imdb_movie_dataset.head(3)"
   ]
  },
  {
   "cell_type": "code",
   "execution_count": 30,
   "metadata": {
    "collapsed": true
   },
   "outputs": [],
   "source": [
    "imdb_movie_dataset.to_csv(\"imdb_movie_dataset.csv\", encoding = 'UTF-8') #stores the DataFrame as a csv file"
   ]
  },
  {
   "cell_type": "code",
   "execution_count": 33,
   "metadata": {},
   "outputs": [
    {
     "data": {
      "text/plain": [
       "(2887, 12)"
      ]
     },
     "execution_count": 33,
     "metadata": {},
     "output_type": "execute_result"
    }
   ],
   "source": [
    "imdb_movie_dataset.shape # checking the shape of the cleaned dataset."
   ]
  },
  {
   "cell_type": "code",
   "execution_count": 36,
   "metadata": {},
   "outputs": [
    {
     "data": {
      "text/plain": [
       "array(['Logan', 'Logan', 'Logan', ..., 'Zhuo yao ji 2', 'Zhuo yao ji 2',\n",
       "       'Zhuo yao ji 2'], dtype=object)"
      ]
     },
     "execution_count": 36,
     "metadata": {},
     "output_type": "execute_result"
    }
   ],
   "source": [
    "#extracting movie names for further scraping\n",
    "movies = imdb_movie_dataset['movie_names']\n",
    "movies.values"
   ]
  },
  {
   "cell_type": "code",
   "execution_count": 37,
   "metadata": {
    "collapsed": true
   },
   "outputs": [],
   "source": [
    "movies.to_csv(\"movies.csv\", encoding = 'UTF-8') #saving the names of movies as a csv file"
   ]
  },
  {
   "cell_type": "markdown",
   "metadata": {},
   "source": [
    "# Success!\n",
    "\n",
    "We have successfuly completed the scraping and cleaning of the data. In the next workbook we shall use this dataset to store it in a PostgreSQL database."
   ]
  }
 ],
 "metadata": {
  "kernelspec": {
   "display_name": "Python 3",
   "language": "python",
   "name": "python3"
  },
  "language_info": {
   "codemirror_mode": {
    "name": "ipython",
    "version": 3
   },
   "file_extension": ".py",
   "mimetype": "text/x-python",
   "name": "python",
   "nbconvert_exporter": "python",
   "pygments_lexer": "ipython3",
   "version": "3.5.4"
  }
 },
 "nbformat": 4,
 "nbformat_minor": 2
}
