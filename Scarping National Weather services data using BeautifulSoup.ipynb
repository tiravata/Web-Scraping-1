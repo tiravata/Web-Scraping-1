{
 "cells": [
  {
   "cell_type": "markdown",
   "metadata": {},
   "source": [
    "# Scraping a real web page.\n",
    "\n",
    "while in the last notebook we learned how to extract the elemnts of the web using a very simple example, lets dive into some real scraping using the weather forecast data from the http://forecast.weather.gov/MapClick.php?lat=37.7772&lon=-122.4168 website. while most of the steps are from the previous example, we go a step further and store the data scraped into a pandas library soo that we can use this data for analytics."
   ]
  },
  {
   "cell_type": "code",
   "execution_count": 6,
   "metadata": {
    "collapsed": true
   },
   "outputs": [],
   "source": [
    "import requests as r\n",
    "from bs4 import BeautifulSoup as bs"
   ]
  },
  {
   "cell_type": "code",
   "execution_count": 7,
   "metadata": {},
   "outputs": [],
   "source": [
    "page = r.get(\"http://forecast.weather.gov/MapClick.php?lat=37.7772&lon=-122.4168\") #saving the page\n",
    "soup = bs(page.content, 'html.parser') #using BeautifulSoup for structuring the data"
   ]
  },
  {
   "cell_type": "code",
   "execution_count": 8,
   "metadata": {
    "collapsed": true
   },
   "outputs": [],
   "source": [
    "seven_day = soup.find( id = \"seven-day-forecast\") #subsetting the elemnt of interest"
   ]
  },
  {
   "cell_type": "code",
   "execution_count": 9,
   "metadata": {
    "collapsed": true
   },
   "outputs": [],
   "source": [
    "forecast_items = seven_day.find_all(class_ = \"tombstone-container\") #Extracting the data for today"
   ]
  },
  {
   "cell_type": "code",
   "execution_count": 10,
   "metadata": {
    "collapsed": true
   },
   "outputs": [],
   "source": [
    "tonight = forecast_items[0]"
   ]
  },
  {
   "cell_type": "code",
   "execution_count": 11,
   "metadata": {},
   "outputs": [
    {
     "name": "stdout",
     "output_type": "stream",
     "text": [
      "ThisAfternoon\n",
      "Sunny\n",
      "High: 62 °F\n"
     ]
    }
   ],
   "source": [
    "period =  tonight.find(class_ = \"period-name\").get_text()\n",
    "short_dec = tonight.find(class_ = \"short-desc\").get_text()\n",
    "temp = tonight.find(class_ = \"temp\").get_text()\n",
    "\n",
    "print(period)\n",
    "print(short_dec)\n",
    "print(temp)"
   ]
  },
  {
   "cell_type": "code",
   "execution_count": 12,
   "metadata": {
    "collapsed": true
   },
   "outputs": [],
   "source": [
    "img = tonight.find('img') #scraping the description for the weather.\n",
    "desc = img['title']"
   ]
  },
  {
   "cell_type": "code",
   "execution_count": 13,
   "metadata": {},
   "outputs": [
    {
     "name": "stdout",
     "output_type": "stream",
     "text": [
      "['ThisAfternoon', 'Tonight', 'Friday', 'FridayNight', 'Saturday', 'SaturdayNight', 'Sunday', 'SundayNight', \"Washington'sBirthday\"] ['Sunny', 'Clear', 'Sunny', 'Mostly Clear', 'Sunny', 'Mostly Clear', 'Mostly Sunny', 'Mostly Clearand Breezy', 'Sunny andBreezy thenSunny'] ['High: 62 °F', 'Low: 46 °F', 'High: 62 °F', 'Low: 48 °F', 'High: 66 °F', 'Low: 50 °F', 'High: 57 °F', 'Low: 45 °F', 'High: 54 °F'] ['This Afternoon: Sunny, with a high near 62. North wind around 11 mph. ', 'Tonight: Clear, with a low around 46. Northwest wind around 5 mph becoming calm  in the evening. ', 'Friday: Sunny, with a high near 62. Light and variable wind becoming west 5 to 9 mph in the afternoon. ', 'Friday Night: Mostly clear, with a low around 48. West wind 5 to 10 mph becoming light and variable  in the evening. ', 'Saturday: Sunny, with a high near 66. South southeast wind 5 to 13 mph becoming west in the morning. ', 'Saturday Night: Mostly clear, with a low around 50.', 'Sunday: Mostly sunny, with a high near 57.', 'Sunday Night: Mostly clear, with a low around 45. Breezy. ', \"Washington's Birthday: Sunny, with a high near 54. Breezy. \"]\n"
     ]
    }
   ],
   "source": [
    "# Extracting all the elements for the data predictions using a for loop:\n",
    "\n",
    "period = [pt.get_text() for pt in seven_day.select('.tombstone-container .period-name')]\n",
    "short_dec = [pt.get_text() for pt in seven_day.select(\".tombstone-container .short-desc\")]\n",
    "temp = [pt.get_text() for pt in seven_day.select(\".tombstone-container .temp\")]\n",
    "descs = [d['title'] for d in seven_day.select(\".tombstone-container img \")] \n",
    "\n",
    "print(period,short_dec, temp, descs)\n"
   ]
  },
  {
   "cell_type": "markdown",
   "metadata": {},
   "source": [
    "## We etract data for some kind of analysis, thus storing the data into a Data Frame is a very important step. We will be using the pandas libraary for the same."
   ]
  },
  {
   "cell_type": "code",
   "execution_count": 14,
   "metadata": {},
   "outputs": [],
   "source": [
    "import pandas as pd\n",
    "\n",
    "weather = pd.DataFrame({\"period\":period,\n",
    "                       \"short_desc\": short_dec,\n",
    "                       \"temp\": temp,\n",
    "                       \"desc\":descs\n",
    "                       })"
   ]
  },
  {
   "cell_type": "code",
   "execution_count": 15,
   "metadata": {},
   "outputs": [
    {
     "data": {
      "text/html": [
       "<div>\n",
       "<style>\n",
       "    .dataframe thead tr:only-child th {\n",
       "        text-align: right;\n",
       "    }\n",
       "\n",
       "    .dataframe thead th {\n",
       "        text-align: left;\n",
       "    }\n",
       "\n",
       "    .dataframe tbody tr th {\n",
       "        vertical-align: top;\n",
       "    }\n",
       "</style>\n",
       "<table border=\"1\" class=\"dataframe\">\n",
       "  <thead>\n",
       "    <tr style=\"text-align: right;\">\n",
       "      <th></th>\n",
       "      <th>desc</th>\n",
       "      <th>period</th>\n",
       "      <th>short_desc</th>\n",
       "      <th>temp</th>\n",
       "    </tr>\n",
       "  </thead>\n",
       "  <tbody>\n",
       "    <tr>\n",
       "      <th>0</th>\n",
       "      <td>This Afternoon: Sunny, with a high near 62. No...</td>\n",
       "      <td>ThisAfternoon</td>\n",
       "      <td>Sunny</td>\n",
       "      <td>High: 62 °F</td>\n",
       "    </tr>\n",
       "    <tr>\n",
       "      <th>1</th>\n",
       "      <td>Tonight: Clear, with a low around 46. Northwes...</td>\n",
       "      <td>Tonight</td>\n",
       "      <td>Clear</td>\n",
       "      <td>Low: 46 °F</td>\n",
       "    </tr>\n",
       "    <tr>\n",
       "      <th>2</th>\n",
       "      <td>Friday: Sunny, with a high near 62. Light and ...</td>\n",
       "      <td>Friday</td>\n",
       "      <td>Sunny</td>\n",
       "      <td>High: 62 °F</td>\n",
       "    </tr>\n",
       "    <tr>\n",
       "      <th>3</th>\n",
       "      <td>Friday Night: Mostly clear, with a low around ...</td>\n",
       "      <td>FridayNight</td>\n",
       "      <td>Mostly Clear</td>\n",
       "      <td>Low: 48 °F</td>\n",
       "    </tr>\n",
       "    <tr>\n",
       "      <th>4</th>\n",
       "      <td>Saturday: Sunny, with a high near 66. South so...</td>\n",
       "      <td>Saturday</td>\n",
       "      <td>Sunny</td>\n",
       "      <td>High: 66 °F</td>\n",
       "    </tr>\n",
       "  </tbody>\n",
       "</table>\n",
       "</div>"
      ],
      "text/plain": [
       "                                                desc         period  \\\n",
       "0  This Afternoon: Sunny, with a high near 62. No...  ThisAfternoon   \n",
       "1  Tonight: Clear, with a low around 46. Northwes...        Tonight   \n",
       "2  Friday: Sunny, with a high near 62. Light and ...         Friday   \n",
       "3  Friday Night: Mostly clear, with a low around ...    FridayNight   \n",
       "4  Saturday: Sunny, with a high near 66. South so...       Saturday   \n",
       "\n",
       "     short_desc         temp  \n",
       "0         Sunny  High: 62 °F  \n",
       "1         Clear   Low: 46 °F  \n",
       "2         Sunny  High: 62 °F  \n",
       "3  Mostly Clear   Low: 48 °F  \n",
       "4         Sunny  High: 66 °F  "
      ]
     },
     "execution_count": 15,
     "metadata": {},
     "output_type": "execute_result"
    }
   ],
   "source": [
    "weather.head()"
   ]
  },
  {
   "cell_type": "markdown",
   "metadata": {
    "collapsed": true
   },
   "source": [
    "## We can further perform analytics on this data and obtain resulst and conclusions according to what the analysis is about."
   ]
  },
  {
   "cell_type": "code",
   "execution_count": null,
   "metadata": {
    "collapsed": true
   },
   "outputs": [],
   "source": []
  }
 ],
 "metadata": {
  "kernelspec": {
   "display_name": "Python 3",
   "language": "python",
   "name": "python3"
  },
  "language_info": {
   "codemirror_mode": {
    "name": "ipython",
    "version": 3
   },
   "file_extension": ".py",
   "mimetype": "text/x-python",
   "name": "python",
   "nbconvert_exporter": "python",
   "pygments_lexer": "ipython3",
   "version": "3.5.4"
  }
 },
 "nbformat": 4,
 "nbformat_minor": 2
}
